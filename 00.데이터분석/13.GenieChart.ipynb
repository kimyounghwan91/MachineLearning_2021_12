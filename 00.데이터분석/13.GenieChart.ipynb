{
 "cells": [
  {
   "cell_type": "markdown",
   "metadata": {},
   "source": [
    "# Genie Top200 Chart"
   ]
  },
  {
   "cell_type": "code",
   "execution_count": 1,
   "metadata": {},
   "outputs": [],
   "source": [
    "import requests\n",
    "import pandas as pd"
   ]
  },
  {
   "cell_type": "markdown",
   "metadata": {},
   "source": [
    "### 1. 인터넷에서 데이터 가져오기"
   ]
  },
  {
   "cell_type": "code",
   "execution_count": 2,
   "metadata": {},
   "outputs": [
    {
     "data": {
      "text/plain": [
       "'<br>\\r\\n<br>\\r\\n<center>\\r\\n<img src=\"http://www.geniemusic.co.kr/images/common/logo_r1.png\"><br>\\r\\n<h2> <meta http-equiv=\"Content-Type\" content=\"text/html;charset=UTF-8\"> ì\\xa0\\x91ì\\x86\\x8dì\\x9a\\x94ì²\\xadì\\x9d´ ë³´ì\\x95\\x88ì\\xa0\\x95ì±\\x85ì\\x97\\x90 ì\\x9d\\x98í\\x95´ ì°¨ë\\x8b¨ë\\x90\\x98ì\\x97\\x88ì\\x8aµë\\x8b\\x88ë\\x8b¤. ë\\x8b¹ì\\x82¬ ê³\\xa0ê°\\x9dì\\x84¼í\\x84°ë¡\\x9c ë¬¸ì\\x9d\\x98í\\x95´ì£¼ì\\x8b\\xadì\\x8b\\x9cì\\x98¤.<br><br>\\r\\nThe security policy of the connection request is blocked. Contact your customer service representative.<br><br>\\r\\nì§\\x80ë\\x8b\\x88ë®¤ì§\\x81 ê³\\xa0ê°\\x9dì\\x84¼í\\x84° 1577-5337<br><br>\\r\\n</h2>\\r\\n</center>\\r\\n<br>'"
      ]
     },
     "execution_count": 2,
     "metadata": {},
     "output_type": "execute_result"
    }
   ],
   "source": [
    "# Genie top200\n",
    "url = 'https://www.genie.co.kr/chart/top200'\n",
    "req = requests.get(url)\n",
    "html = req.text\n",
    "html"
   ]
  },
  {
   "cell_type": "code",
   "execution_count": 3,
   "metadata": {},
   "outputs": [],
   "source": [
    "# Chrome User-Agent\n",
    "header = {'User-Agent':\n",
    "          \"Mozilla/5.0 (Windows NT 10.0; Win64; x64) AppleWebKit/537.36 (KHTML, like Gecko) Chrome/80.0.3987.122 Safari/537.36\"\n",
    "}\n",
    "req = requests.get(url, headers=header)\n",
    "html = req.text\n",
    "#html"
   ]
  },
  {
   "cell_type": "code",
   "execution_count": 4,
   "metadata": {},
   "outputs": [],
   "source": [
    "from bs4 import BeautifulSoup\n",
    "\n",
    "soup = BeautifulSoup(html, 'html.parser')"
   ]
  },
  {
   "cell_type": "markdown",
   "metadata": {},
   "source": [
    "### 찾으려고 하는 데이터의 노드 찾기"
   ]
  },
  {
   "cell_type": "code",
   "execution_count": 5,
   "metadata": {},
   "outputs": [
    {
     "data": {
      "text/plain": [
       "51"
      ]
     },
     "execution_count": 5,
     "metadata": {},
     "output_type": "execute_result"
    }
   ],
   "source": [
    "trs = soup.find_all('tr')\n",
    "len(trs)"
   ]
  },
  {
   "cell_type": "code",
   "execution_count": 6,
   "metadata": {},
   "outputs": [
    {
     "data": {
      "text/plain": [
       "50"
      ]
     },
     "execution_count": 6,
     "metadata": {},
     "output_type": "execute_result"
    }
   ],
   "source": [
    "tbody = soup.select_one('table.list-wrap').find('tbody')\n",
    "trs = tbody.select('tr')\n",
    "len(trs)"
   ]
  },
  {
   "cell_type": "code",
   "execution_count": 7,
   "metadata": {},
   "outputs": [
    {
     "data": {
      "text/plain": [
       "50"
      ]
     },
     "execution_count": 7,
     "metadata": {},
     "output_type": "execute_result"
    }
   ],
   "source": [
    "# 개발자 도구에서 찾아주는 Selector\n",
    "tbody = soup.select_one('#body-content > div.newest-list > div > table > tbody')\n",
    "trs = tbody.select('tr')\n",
    "len(trs)"
   ]
  },
  {
   "cell_type": "markdown",
   "metadata": {},
   "source": [
    "- XPath 값은 아래와 같으나 BeautifulSoup은 지원하지 않음\n",
    "<br>\n",
    "//*[@id=\"body-content\"]/div[6]/div/table/tbody"
   ]
  },
  {
   "cell_type": "markdown",
   "metadata": {},
   "source": [
    "### 3. 여러개의 데이터 중 하나를 선택해서 원하는 정보를 추출\n",
    "- rank, title, artist, album"
   ]
  },
  {
   "cell_type": "code",
   "execution_count": 8,
   "metadata": {},
   "outputs": [],
   "source": [
    "tr = trs[0]"
   ]
  },
  {
   "cell_type": "code",
   "execution_count": 9,
   "metadata": {},
   "outputs": [
    {
     "data": {
      "text/plain": [
       "'1\\n                                        \\n                                    \\n유지\\n\\n'"
      ]
     },
     "execution_count": 9,
     "metadata": {},
     "output_type": "execute_result"
    }
   ],
   "source": [
    "# rank\n",
    "tr.select_one('.number').get_text()"
   ]
  },
  {
   "cell_type": "code",
   "execution_count": 10,
   "metadata": {},
   "outputs": [
    {
     "data": {
      "text/plain": [
       "'1'"
      ]
     },
     "execution_count": 10,
     "metadata": {},
     "output_type": "execute_result"
    }
   ],
   "source": [
    "rank = tr.select_one('.number').get_text().split('\\n')[0]\n",
    "rank"
   ]
  },
  {
   "cell_type": "code",
   "execution_count": 11,
   "metadata": {},
   "outputs": [
    {
     "data": {
      "text/plain": [
       "'\\n                                        \\n                                            \\n                                        \\n                                        \\n                                        \\n                                        \\n                                            \\n                                                Counting Stars (Feat. Beenzino)'"
      ]
     },
     "execution_count": 11,
     "metadata": {},
     "output_type": "execute_result"
    }
   ],
   "source": [
    "# title\n",
    "tr.select_one('.title.ellipsis').get_text()"
   ]
  },
  {
   "cell_type": "code",
   "execution_count": 12,
   "metadata": {},
   "outputs": [
    {
     "data": {
      "text/plain": [
       "'Counting Stars (Feat. Beenzino)'"
      ]
     },
     "execution_count": 12,
     "metadata": {},
     "output_type": "execute_result"
    }
   ],
   "source": [
    "title = tr.select_one('.title.ellipsis').get_text().strip()\n",
    "title"
   ]
  },
  {
   "cell_type": "code",
   "execution_count": 13,
   "metadata": {},
   "outputs": [
    {
     "data": {
      "text/plain": [
       "\"BE'O (비오)\""
      ]
     },
     "execution_count": 13,
     "metadata": {},
     "output_type": "execute_result"
    }
   ],
   "source": [
    "# artist\n",
    "artist = tr.select_one('.artist.ellipsis').get_text().strip()\n",
    "artist"
   ]
  },
  {
   "cell_type": "code",
   "execution_count": 14,
   "metadata": {},
   "outputs": [
    {
     "data": {
      "text/plain": [
       "'Counting Stars'"
      ]
     },
     "execution_count": 14,
     "metadata": {},
     "output_type": "execute_result"
    }
   ],
   "source": [
    "# album\n",
    "album = tr.select_one('.albumtitle.ellipsis').get_text().strip()\n",
    "album"
   ]
  },
  {
   "cell_type": "markdown",
   "metadata": {},
   "source": [
    "### 4. 한 페이지에 있는 모든 데이터를 반복문으로 가져와 데이터프레임 만들기"
   ]
  },
  {
   "cell_type": "code",
   "execution_count": 15,
   "metadata": {},
   "outputs": [],
   "source": [
    "rank_list, title_list, artist_list, album_list = [],[],[],[]\n",
    "for tr in trs:\n",
    "    rank = tr.select_one('.number').get_text().split('\\n')[0]\n",
    "    title = tr.select_one('.title.ellipsis').get_text().strip()\n",
    "    artist = tr.select_one('.artist.ellipsis').get_text().strip()\n",
    "    album = tr.select_one('.albumtitle.ellipsis').get_text().strip()\n",
    "    rank_list.append(rank) \n",
    "    title_list.append(title) \n",
    "    artist_list.append(artist) \n",
    "    album_list.append(album)"
   ]
  },
  {
   "cell_type": "code",
   "execution_count": 16,
   "metadata": {},
   "outputs": [
    {
     "data": {
      "text/html": [
       "<div>\n",
       "<style scoped>\n",
       "    .dataframe tbody tr th:only-of-type {\n",
       "        vertical-align: middle;\n",
       "    }\n",
       "\n",
       "    .dataframe tbody tr th {\n",
       "        vertical-align: top;\n",
       "    }\n",
       "\n",
       "    .dataframe thead th {\n",
       "        text-align: right;\n",
       "    }\n",
       "</style>\n",
       "<table border=\"1\" class=\"dataframe\">\n",
       "  <thead>\n",
       "    <tr style=\"text-align: right;\">\n",
       "      <th></th>\n",
       "      <th>순위</th>\n",
       "      <th>제목</th>\n",
       "      <th>가수</th>\n",
       "      <th>앨범</th>\n",
       "    </tr>\n",
       "  </thead>\n",
       "  <tbody>\n",
       "    <tr>\n",
       "      <th>0</th>\n",
       "      <td>1</td>\n",
       "      <td>Counting Stars (Feat. Beenzino)</td>\n",
       "      <td>BE'O (비오)</td>\n",
       "      <td>Counting Stars</td>\n",
       "    </tr>\n",
       "    <tr>\n",
       "      <th>1</th>\n",
       "      <td>2</td>\n",
       "      <td>회전목마 (Feat. Zion.T &amp; 원슈타인) (Prod. by Slom)</td>\n",
       "      <td>sokodomo</td>\n",
       "      <td>쇼미더머니 10 Episode 2</td>\n",
       "    </tr>\n",
       "    <tr>\n",
       "      <th>2</th>\n",
       "      <td>3</td>\n",
       "      <td>리무진 (Feat. MINO) (Prod. by GRAY)</td>\n",
       "      <td>BE'O (비오)</td>\n",
       "      <td>쇼미더머니 10 Episode 3</td>\n",
       "    </tr>\n",
       "    <tr>\n",
       "      <th>3</th>\n",
       "      <td>4</td>\n",
       "      <td>매일 크리스마스 (Everyday Christmas)</td>\n",
       "      <td>다비치</td>\n",
       "      <td>매일 크리스마스 (Everyday Christmas)</td>\n",
       "    </tr>\n",
       "    <tr>\n",
       "      <th>4</th>\n",
       "      <td>5</td>\n",
       "      <td>ELEVEN</td>\n",
       "      <td>IVE (아이브)</td>\n",
       "      <td>ELEVEN</td>\n",
       "    </tr>\n",
       "  </tbody>\n",
       "</table>\n",
       "</div>"
      ],
      "text/plain": [
       "  순위                                          제목         가수  \\\n",
       "0  1             Counting Stars (Feat. Beenzino)  BE'O (비오)   \n",
       "1  2  회전목마 (Feat. Zion.T & 원슈타인) (Prod. by Slom)   sokodomo   \n",
       "2  3            리무진 (Feat. MINO) (Prod. by GRAY)  BE'O (비오)   \n",
       "3  4               매일 크리스마스 (Everyday Christmas)        다비치   \n",
       "4  5                                      ELEVEN  IVE (아이브)   \n",
       "\n",
       "                              앨범  \n",
       "0                 Counting Stars  \n",
       "1             쇼미더머니 10 Episode 2  \n",
       "2             쇼미더머니 10 Episode 3  \n",
       "3  매일 크리스마스 (Everyday Christmas)  \n",
       "4                         ELEVEN  "
      ]
     },
     "execution_count": 16,
     "metadata": {},
     "output_type": "execute_result"
    }
   ],
   "source": [
    "df = pd.DataFrame({\n",
    "    '순위':rank_list, '제목':title_list, '가수':artist_list, '앨범':album_list\n",
    "})\n",
    "df.head()"
   ]
  },
  {
   "cell_type": "code",
   "execution_count": 17,
   "metadata": {},
   "outputs": [
    {
     "data": {
      "text/plain": [
       "(50, 4)"
      ]
     },
     "execution_count": 17,
     "metadata": {},
     "output_type": "execute_result"
    }
   ],
   "source": [
    "lines = []\n",
    "for tr in trs:\n",
    "    rank = tr.select_one('.number').get_text().split('\\n')[0]\n",
    "    title = tr.select_one('.title.ellipsis').get_text().strip()\n",
    "    artist = tr.select_one('.artist.ellipsis').get_text().strip()\n",
    "    album = tr.select_one('.albumtitle.ellipsis').get_text().strip()\n",
    "    lines.append([rank, title, artist, album])\n",
    "\n",
    "len(lines), len(lines[0])"
   ]
  },
  {
   "cell_type": "code",
   "execution_count": 18,
   "metadata": {},
   "outputs": [
    {
     "data": {
      "text/html": [
       "<div>\n",
       "<style scoped>\n",
       "    .dataframe tbody tr th:only-of-type {\n",
       "        vertical-align: middle;\n",
       "    }\n",
       "\n",
       "    .dataframe tbody tr th {\n",
       "        vertical-align: top;\n",
       "    }\n",
       "\n",
       "    .dataframe thead th {\n",
       "        text-align: right;\n",
       "    }\n",
       "</style>\n",
       "<table border=\"1\" class=\"dataframe\">\n",
       "  <thead>\n",
       "    <tr style=\"text-align: right;\">\n",
       "      <th></th>\n",
       "      <th>순위</th>\n",
       "      <th>제목</th>\n",
       "      <th>가수</th>\n",
       "      <th>앨범</th>\n",
       "    </tr>\n",
       "  </thead>\n",
       "  <tbody>\n",
       "    <tr>\n",
       "      <th>0</th>\n",
       "      <td>1</td>\n",
       "      <td>Counting Stars (Feat. Beenzino)</td>\n",
       "      <td>BE'O (비오)</td>\n",
       "      <td>Counting Stars</td>\n",
       "    </tr>\n",
       "    <tr>\n",
       "      <th>1</th>\n",
       "      <td>2</td>\n",
       "      <td>회전목마 (Feat. Zion.T &amp; 원슈타인) (Prod. by Slom)</td>\n",
       "      <td>sokodomo</td>\n",
       "      <td>쇼미더머니 10 Episode 2</td>\n",
       "    </tr>\n",
       "    <tr>\n",
       "      <th>2</th>\n",
       "      <td>3</td>\n",
       "      <td>리무진 (Feat. MINO) (Prod. by GRAY)</td>\n",
       "      <td>BE'O (비오)</td>\n",
       "      <td>쇼미더머니 10 Episode 3</td>\n",
       "    </tr>\n",
       "    <tr>\n",
       "      <th>3</th>\n",
       "      <td>4</td>\n",
       "      <td>매일 크리스마스 (Everyday Christmas)</td>\n",
       "      <td>다비치</td>\n",
       "      <td>매일 크리스마스 (Everyday Christmas)</td>\n",
       "    </tr>\n",
       "    <tr>\n",
       "      <th>4</th>\n",
       "      <td>5</td>\n",
       "      <td>ELEVEN</td>\n",
       "      <td>IVE (아이브)</td>\n",
       "      <td>ELEVEN</td>\n",
       "    </tr>\n",
       "  </tbody>\n",
       "</table>\n",
       "</div>"
      ],
      "text/plain": [
       "  순위                                          제목         가수  \\\n",
       "0  1             Counting Stars (Feat. Beenzino)  BE'O (비오)   \n",
       "1  2  회전목마 (Feat. Zion.T & 원슈타인) (Prod. by Slom)   sokodomo   \n",
       "2  3            리무진 (Feat. MINO) (Prod. by GRAY)  BE'O (비오)   \n",
       "3  4               매일 크리스마스 (Everyday Christmas)        다비치   \n",
       "4  5                                      ELEVEN  IVE (아이브)   \n",
       "\n",
       "                              앨범  \n",
       "0                 Counting Stars  \n",
       "1             쇼미더머니 10 Episode 2  \n",
       "2             쇼미더머니 10 Episode 3  \n",
       "3  매일 크리스마스 (Everyday Christmas)  \n",
       "4                         ELEVEN  "
      ]
     },
     "execution_count": 18,
     "metadata": {},
     "output_type": "execute_result"
    }
   ],
   "source": [
    "df = pd.DataFrame(lines, columns=['순위', '제목', '가수', '앨범'])\n",
    "df.head()"
   ]
  },
  {
   "cell_type": "code",
   "execution_count": 19,
   "metadata": {},
   "outputs": [
    {
     "data": {
      "text/plain": [
       "[{'순위': '1',\n",
       "  '제목': 'Counting Stars (Feat. Beenzino)',\n",
       "  '가수': \"BE'O (비오)\",\n",
       "  '앨범': 'Counting Stars'},\n",
       " {'순위': '2',\n",
       "  '제목': '회전목마 (Feat. Zion.T & 원슈타인) (Prod. by Slom)',\n",
       "  '가수': 'sokodomo',\n",
       "  '앨범': '쇼미더머니 10 Episode 2'},\n",
       " {'순위': '3',\n",
       "  '제목': '리무진 (Feat. MINO) (Prod. by GRAY)',\n",
       "  '가수': \"BE'O (비오)\",\n",
       "  '앨범': '쇼미더머니 10 Episode 3'}]"
      ]
     },
     "execution_count": 19,
     "metadata": {},
     "output_type": "execute_result"
    }
   ],
   "source": [
    "lines = []\n",
    "for tr in trs:\n",
    "    rank = tr.select_one('.number').get_text().split('\\n')[0]\n",
    "    title = tr.select_one('.title.ellipsis').get_text().strip()\n",
    "    artist = tr.select_one('.artist.ellipsis').get_text().strip()\n",
    "    album = tr.select_one('.albumtitle.ellipsis').get_text().strip()\n",
    "    d = {'순위':rank, '제목':title, '가수':artist, '앨범':album}\n",
    "    lines.append(d)\n",
    "\n",
    "lines[:3]"
   ]
  },
  {
   "cell_type": "code",
   "execution_count": 20,
   "metadata": {},
   "outputs": [
    {
     "data": {
      "text/html": [
       "<div>\n",
       "<style scoped>\n",
       "    .dataframe tbody tr th:only-of-type {\n",
       "        vertical-align: middle;\n",
       "    }\n",
       "\n",
       "    .dataframe tbody tr th {\n",
       "        vertical-align: top;\n",
       "    }\n",
       "\n",
       "    .dataframe thead th {\n",
       "        text-align: right;\n",
       "    }\n",
       "</style>\n",
       "<table border=\"1\" class=\"dataframe\">\n",
       "  <thead>\n",
       "    <tr style=\"text-align: right;\">\n",
       "      <th></th>\n",
       "      <th>순위</th>\n",
       "      <th>제목</th>\n",
       "      <th>가수</th>\n",
       "      <th>앨범</th>\n",
       "    </tr>\n",
       "  </thead>\n",
       "  <tbody>\n",
       "    <tr>\n",
       "      <th>0</th>\n",
       "      <td>1</td>\n",
       "      <td>Counting Stars (Feat. Beenzino)</td>\n",
       "      <td>BE'O (비오)</td>\n",
       "      <td>Counting Stars</td>\n",
       "    </tr>\n",
       "    <tr>\n",
       "      <th>1</th>\n",
       "      <td>2</td>\n",
       "      <td>회전목마 (Feat. Zion.T &amp; 원슈타인) (Prod. by Slom)</td>\n",
       "      <td>sokodomo</td>\n",
       "      <td>쇼미더머니 10 Episode 2</td>\n",
       "    </tr>\n",
       "    <tr>\n",
       "      <th>2</th>\n",
       "      <td>3</td>\n",
       "      <td>리무진 (Feat. MINO) (Prod. by GRAY)</td>\n",
       "      <td>BE'O (비오)</td>\n",
       "      <td>쇼미더머니 10 Episode 3</td>\n",
       "    </tr>\n",
       "    <tr>\n",
       "      <th>3</th>\n",
       "      <td>4</td>\n",
       "      <td>매일 크리스마스 (Everyday Christmas)</td>\n",
       "      <td>다비치</td>\n",
       "      <td>매일 크리스마스 (Everyday Christmas)</td>\n",
       "    </tr>\n",
       "    <tr>\n",
       "      <th>4</th>\n",
       "      <td>5</td>\n",
       "      <td>ELEVEN</td>\n",
       "      <td>IVE (아이브)</td>\n",
       "      <td>ELEVEN</td>\n",
       "    </tr>\n",
       "  </tbody>\n",
       "</table>\n",
       "</div>"
      ],
      "text/plain": [
       "  순위                                          제목         가수  \\\n",
       "0  1             Counting Stars (Feat. Beenzino)  BE'O (비오)   \n",
       "1  2  회전목마 (Feat. Zion.T & 원슈타인) (Prod. by Slom)   sokodomo   \n",
       "2  3            리무진 (Feat. MINO) (Prod. by GRAY)  BE'O (비오)   \n",
       "3  4               매일 크리스마스 (Everyday Christmas)        다비치   \n",
       "4  5                                      ELEVEN  IVE (아이브)   \n",
       "\n",
       "                              앨범  \n",
       "0                 Counting Stars  \n",
       "1             쇼미더머니 10 Episode 2  \n",
       "2             쇼미더머니 10 Episode 3  \n",
       "3  매일 크리스마스 (Everyday Christmas)  \n",
       "4                         ELEVEN  "
      ]
     },
     "execution_count": 20,
     "metadata": {},
     "output_type": "execute_result"
    }
   ],
   "source": [
    "df = pd.DataFrame(lines)\n",
    "df.head()"
   ]
  },
  {
   "cell_type": "markdown",
   "metadata": {},
   "source": [
    "### 5. 모든 페이지의 데이터 가져오기"
   ]
  },
  {
   "cell_type": "code",
   "execution_count": 21,
   "metadata": {},
   "outputs": [],
   "source": [
    "lines = []\n",
    "for page in range(1,5):\n",
    "    url = f'https://www.genie.co.kr/chart/top200?ditc=D&ymd=20211206&hh=10&rtm=Y&pg={page}'\n",
    "    req = requests.get(url, headers=header)\n",
    "    html = req.text\n",
    "    soup = BeautifulSoup(html, 'html.parser')\n",
    "    tbody = soup.select_one('table.list-wrap').find('tbody')\n",
    "    trs = tbody.select('tr')\n",
    "\n",
    "    for tr in trs:\n",
    "        rank = tr.select_one('.number').get_text().split('\\n')[0]\n",
    "        title = tr.select_one('.title.ellipsis').get_text().strip()\n",
    "        artist = tr.select_one('.artist.ellipsis').get_text().strip()\n",
    "        album = tr.select_one('.albumtitle.ellipsis').get_text().strip()\n",
    "        lines.append([rank, title, artist, album])"
   ]
  },
  {
   "cell_type": "code",
   "execution_count": 22,
   "metadata": {},
   "outputs": [
    {
     "data": {
      "text/html": [
       "<div>\n",
       "<style scoped>\n",
       "    .dataframe tbody tr th:only-of-type {\n",
       "        vertical-align: middle;\n",
       "    }\n",
       "\n",
       "    .dataframe tbody tr th {\n",
       "        vertical-align: top;\n",
       "    }\n",
       "\n",
       "    .dataframe thead th {\n",
       "        text-align: right;\n",
       "    }\n",
       "</style>\n",
       "<table border=\"1\" class=\"dataframe\">\n",
       "  <thead>\n",
       "    <tr style=\"text-align: right;\">\n",
       "      <th></th>\n",
       "      <th>순위</th>\n",
       "      <th>제목</th>\n",
       "      <th>가수</th>\n",
       "      <th>앨범</th>\n",
       "    </tr>\n",
       "  </thead>\n",
       "  <tbody>\n",
       "    <tr>\n",
       "      <th>195</th>\n",
       "      <td>196</td>\n",
       "      <td>Heaven</td>\n",
       "      <td>김현성</td>\n",
       "      <td>Soulmate</td>\n",
       "    </tr>\n",
       "    <tr>\n",
       "      <th>196</th>\n",
       "      <td>197</td>\n",
       "      <td>아하 (A-Ha)</td>\n",
       "      <td>효린</td>\n",
       "      <td>아하 (A-Ha)</td>\n",
       "    </tr>\n",
       "    <tr>\n",
       "      <th>197</th>\n",
       "      <td>198</td>\n",
       "      <td>나랑 같이 걸을래 (바른연애 길잡이 X 적재)</td>\n",
       "      <td>적재</td>\n",
       "      <td>나랑 같이 걸을래 (바른연애 길잡이 X 적재)</td>\n",
       "    </tr>\n",
       "    <tr>\n",
       "      <th>198</th>\n",
       "      <td>199</td>\n",
       "      <td>You Deserve It All</td>\n",
       "      <td>John Legend</td>\n",
       "      <td>You Deserve It All</td>\n",
       "    </tr>\n",
       "    <tr>\n",
       "      <th>199</th>\n",
       "      <td>200</td>\n",
       "      <td>Paris In The Rain</td>\n",
       "      <td>Lauv</td>\n",
       "      <td>I met you when I was 18. (the playlist)</td>\n",
       "    </tr>\n",
       "  </tbody>\n",
       "</table>\n",
       "</div>"
      ],
      "text/plain": [
       "      순위                         제목           가수  \\\n",
       "195  196                     Heaven          김현성   \n",
       "196  197                  아하 (A-Ha)           효린   \n",
       "197  198  나랑 같이 걸을래 (바른연애 길잡이 X 적재)           적재   \n",
       "198  199         You Deserve It All  John Legend   \n",
       "199  200          Paris In The Rain         Lauv   \n",
       "\n",
       "                                          앨범  \n",
       "195                                 Soulmate  \n",
       "196                                아하 (A-Ha)  \n",
       "197                나랑 같이 걸을래 (바른연애 길잡이 X 적재)  \n",
       "198                       You Deserve It All  \n",
       "199  I met you when I was 18. (the playlist)  "
      ]
     },
     "execution_count": 22,
     "metadata": {},
     "output_type": "execute_result"
    }
   ],
   "source": [
    "df = pd.DataFrame(lines, columns=['순위', '제목', '가수', '앨범'])\n",
    "df.tail()"
   ]
  },
  {
   "cell_type": "code",
   "execution_count": 23,
   "metadata": {},
   "outputs": [],
   "source": [
    "df.to_csv('지니챠트_Top200(211223).csv', index=False)"
   ]
  },
  {
   "cell_type": "code",
   "execution_count": null,
   "metadata": {},
   "outputs": [],
   "source": []
  }
 ],
 "metadata": {
  "interpreter": {
   "hash": "b25c465b1c18d956483426a8691b47b486d8d9b6837da05c7a56549aad74826f"
  },
  "kernelspec": {
   "display_name": "Python 3.8.8 64-bit ('base': conda)",
   "language": "python",
   "name": "python3"
  },
  "language_info": {
   "codemirror_mode": {
    "name": "ipython",
    "version": 3
   },
   "file_extension": ".py",
   "mimetype": "text/x-python",
   "name": "python",
   "nbconvert_exporter": "python",
   "pygments_lexer": "ipython3",
   "version": "3.8.8"
  },
  "orig_nbformat": 4
 },
 "nbformat": 4,
 "nbformat_minor": 2
}
