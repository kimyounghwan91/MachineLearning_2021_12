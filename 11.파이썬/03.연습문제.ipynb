{
 "cells": [
  {
   "cell_type": "markdown",
   "metadata": {},
   "source": [
    "# 연습문제"
   ]
  },
  {
   "cell_type": "markdown",
   "metadata": {},
   "source": [
    "#### 연습문제1. 3이 들어가는 시간과 분이 총 몇초인지 구하시오\n"
   ]
  },
  {
   "cell_type": "code",
   "execution_count": 46,
   "metadata": {},
   "outputs": [
    {
     "name": "stdout",
     "output_type": "stream",
     "text": [
      "29700\n"
     ]
    }
   ],
   "source": [
    "# 연습문제 1\n",
    "sec = 0\n",
    "for h in range(24):                              #시간\n",
    "    for m in range(60):                          # 분\n",
    "        if '3' in str(h) or '3' in str(m):       # 시간에 3 또는 분에 3이 들어가면\n",
    "            sec +=60                             # 60초씩 더해라\n",
    "print(sec)"
   ]
  },
  {
   "cell_type": "markdown",
   "metadata": {},
   "source": [
    "#### 연습문제2.  1~1000개 숫자의 각 숫자의 갯수를 구하시오"
   ]
  },
  {
   "cell_type": "code",
   "execution_count": 39,
   "metadata": {},
   "outputs": [
    {
     "name": "stdout",
     "output_type": "stream",
     "text": [
      "[192, 301, 300, 300, 300, 300, 300, 300, 300, 300]\n"
     ]
    }
   ],
   "source": [
    "# 연습문제 2 ver.1\n",
    "num = [0 for _ in range(0,10)]          # 각 숫자의  갯수\n",
    "for i in range(1,1001):                 # 1~1000까지의 숫자 추출\n",
    "    a = str(i)                          # count함수로 사용하기위해서 문자열로 바꿔주기\n",
    "    for k in range(0,10):               # 0~9 까지 숫자 추출\n",
    "        num[k] += a.count(str(k))       # 0~9까지 들어가는 숫자를 카운트하기\n",
    "\n",
    "print(num)\n"
   ]
  },
  {
   "cell_type": "code",
   "execution_count": 49,
   "metadata": {},
   "outputs": [
    {
     "data": {
      "text/plain": [
       "{'0': 192,\n",
       " '1': 301,\n",
       " '2': 300,\n",
       " '3': 300,\n",
       " '4': 300,\n",
       " '5': 300,\n",
       " '6': 300,\n",
       " '7': 300,\n",
       " '8': 300,\n",
       " '9': 300}"
      ]
     },
     "execution_count": 49,
     "metadata": {},
     "output_type": "execute_result"
    }
   ],
   "source": [
    "# 연습문제 2  ver2.\n",
    "num_str = \"\"\n",
    "for i in range(1,1001):\n",
    "    num_str += str(i)\n",
    "\n",
    "num_count = {}\n",
    "for k in range(10):\n",
    "    num_count[str(k)] = num_str.count(str(k))\n",
    "\n",
    "num_count"
   ]
  },
  {
   "cell_type": "code",
   "execution_count": null,
   "metadata": {},
   "outputs": [],
   "source": []
  }
 ],
 "metadata": {
  "interpreter": {
   "hash": "46ae208522317b1e0ccd05dd07d6b276f13b06ba5c87d9313b8ca5c34df924de"
  },
  "kernelspec": {
   "display_name": "Python 3.9.7 64-bit ('base': conda)",
   "language": "python",
   "name": "python3"
  },
  "language_info": {
   "codemirror_mode": {
    "name": "ipython",
    "version": 3
   },
   "file_extension": ".py",
   "mimetype": "text/x-python",
   "name": "python",
   "nbconvert_exporter": "python",
   "pygments_lexer": "ipython3",
   "version": "3.9.7"
  },
  "orig_nbformat": 4
 },
 "nbformat": 4,
 "nbformat_minor": 2
}
