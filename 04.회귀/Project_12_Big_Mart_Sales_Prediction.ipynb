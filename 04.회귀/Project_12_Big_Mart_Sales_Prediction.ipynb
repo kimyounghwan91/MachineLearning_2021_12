{
  "cells": [
    {
      "cell_type": "markdown",
      "metadata": {
        "id": "LVXbklWLb_Qm"
      },
      "source": [
        "사용할 패키지 불러오기"
      ]
    },
    {
      "cell_type": "code",
      "execution_count": 1,
      "metadata": {
        "id": "fwjseYJUbhIu"
      },
      "outputs": [],
      "source": [
        "import numpy as np\n",
        "import pandas as pd\n",
        "import matplotlib.pyplot as plt\n",
        "import seaborn as sns\n",
        "from sklearn.preprocessing import LabelEncoder\n",
        "from sklearn.model_selection import train_test_split\n",
        "from xgboost import XGBRegressor\n",
        "from sklearn import metrics"
      ]
    },
    {
      "cell_type": "markdown",
      "metadata": {
        "id": "T6Qv_wKjrP1A"
      },
      "source": [
        "pandas DataFrame으로 데이터 불러오기"
      ]
    },
    {
      "cell_type": "code",
      "execution_count": 2,
      "metadata": {
        "id": "AFU14Fvbcs8A"
      },
      "outputs": [],
      "source": [
        "# loading the data from csv file to Pandas DataFrame\n",
        "big_mart_data = pd.read_csv('big_mart_sales_train.csv')"
      ]
    },
    {
      "cell_type": "code",
      "execution_count": 3,
      "metadata": {
        "colab": {
          "base_uri": "https://localhost:8080/",
          "height": 307
        },
        "id": "22sDgYb0da9x",
        "outputId": "26a50c31-3dca-4fbb-b4f9-6d4c7b81a8f2"
      },
      "outputs": [
        {
          "data": {
            "text/html": [
              "<div>\n",
              "<style scoped>\n",
              "    .dataframe tbody tr th:only-of-type {\n",
              "        vertical-align: middle;\n",
              "    }\n",
              "\n",
              "    .dataframe tbody tr th {\n",
              "        vertical-align: top;\n",
              "    }\n",
              "\n",
              "    .dataframe thead th {\n",
              "        text-align: right;\n",
              "    }\n",
              "</style>\n",
              "<table border=\"1\" class=\"dataframe\">\n",
              "  <thead>\n",
              "    <tr style=\"text-align: right;\">\n",
              "      <th></th>\n",
              "      <th>Item_Identifier</th>\n",
              "      <th>Item_Weight</th>\n",
              "      <th>Item_Fat_Content</th>\n",
              "      <th>Item_Visibility</th>\n",
              "      <th>Item_Type</th>\n",
              "      <th>Item_MRP</th>\n",
              "      <th>Outlet_Identifier</th>\n",
              "      <th>Outlet_Establishment_Year</th>\n",
              "      <th>Outlet_Size</th>\n",
              "      <th>Outlet_Location_Type</th>\n",
              "      <th>Outlet_Type</th>\n",
              "      <th>Item_Outlet_Sales</th>\n",
              "    </tr>\n",
              "  </thead>\n",
              "  <tbody>\n",
              "    <tr>\n",
              "      <th>0</th>\n",
              "      <td>FDA15</td>\n",
              "      <td>9.30</td>\n",
              "      <td>Low Fat</td>\n",
              "      <td>0.016047</td>\n",
              "      <td>Dairy</td>\n",
              "      <td>249.8092</td>\n",
              "      <td>OUT049</td>\n",
              "      <td>1999</td>\n",
              "      <td>Medium</td>\n",
              "      <td>Tier 1</td>\n",
              "      <td>Supermarket Type1</td>\n",
              "      <td>3735.1380</td>\n",
              "    </tr>\n",
              "    <tr>\n",
              "      <th>1</th>\n",
              "      <td>DRC01</td>\n",
              "      <td>5.92</td>\n",
              "      <td>Regular</td>\n",
              "      <td>0.019278</td>\n",
              "      <td>Soft Drinks</td>\n",
              "      <td>48.2692</td>\n",
              "      <td>OUT018</td>\n",
              "      <td>2009</td>\n",
              "      <td>Medium</td>\n",
              "      <td>Tier 3</td>\n",
              "      <td>Supermarket Type2</td>\n",
              "      <td>443.4228</td>\n",
              "    </tr>\n",
              "    <tr>\n",
              "      <th>2</th>\n",
              "      <td>FDN15</td>\n",
              "      <td>17.50</td>\n",
              "      <td>Low Fat</td>\n",
              "      <td>0.016760</td>\n",
              "      <td>Meat</td>\n",
              "      <td>141.6180</td>\n",
              "      <td>OUT049</td>\n",
              "      <td>1999</td>\n",
              "      <td>Medium</td>\n",
              "      <td>Tier 1</td>\n",
              "      <td>Supermarket Type1</td>\n",
              "      <td>2097.2700</td>\n",
              "    </tr>\n",
              "    <tr>\n",
              "      <th>3</th>\n",
              "      <td>FDX07</td>\n",
              "      <td>19.20</td>\n",
              "      <td>Regular</td>\n",
              "      <td>0.000000</td>\n",
              "      <td>Fruits and Vegetables</td>\n",
              "      <td>182.0950</td>\n",
              "      <td>OUT010</td>\n",
              "      <td>1998</td>\n",
              "      <td>NaN</td>\n",
              "      <td>Tier 3</td>\n",
              "      <td>Grocery Store</td>\n",
              "      <td>732.3800</td>\n",
              "    </tr>\n",
              "    <tr>\n",
              "      <th>4</th>\n",
              "      <td>NCD19</td>\n",
              "      <td>8.93</td>\n",
              "      <td>Low Fat</td>\n",
              "      <td>0.000000</td>\n",
              "      <td>Household</td>\n",
              "      <td>53.8614</td>\n",
              "      <td>OUT013</td>\n",
              "      <td>1987</td>\n",
              "      <td>High</td>\n",
              "      <td>Tier 3</td>\n",
              "      <td>Supermarket Type1</td>\n",
              "      <td>994.7052</td>\n",
              "    </tr>\n",
              "  </tbody>\n",
              "</table>\n",
              "</div>"
            ],
            "text/plain": [
              "  Item_Identifier  Item_Weight Item_Fat_Content  Item_Visibility  \\\n",
              "0           FDA15         9.30          Low Fat         0.016047   \n",
              "1           DRC01         5.92          Regular         0.019278   \n",
              "2           FDN15        17.50          Low Fat         0.016760   \n",
              "3           FDX07        19.20          Regular         0.000000   \n",
              "4           NCD19         8.93          Low Fat         0.000000   \n",
              "\n",
              "               Item_Type  Item_MRP Outlet_Identifier  \\\n",
              "0                  Dairy  249.8092            OUT049   \n",
              "1            Soft Drinks   48.2692            OUT018   \n",
              "2                   Meat  141.6180            OUT049   \n",
              "3  Fruits and Vegetables  182.0950            OUT010   \n",
              "4              Household   53.8614            OUT013   \n",
              "\n",
              "   Outlet_Establishment_Year Outlet_Size Outlet_Location_Type  \\\n",
              "0                       1999      Medium               Tier 1   \n",
              "1                       2009      Medium               Tier 3   \n",
              "2                       1999      Medium               Tier 1   \n",
              "3                       1998         NaN               Tier 3   \n",
              "4                       1987        High               Tier 3   \n",
              "\n",
              "         Outlet_Type  Item_Outlet_Sales  \n",
              "0  Supermarket Type1          3735.1380  \n",
              "1  Supermarket Type2           443.4228  \n",
              "2  Supermarket Type1          2097.2700  \n",
              "3      Grocery Store           732.3800  \n",
              "4  Supermarket Type1           994.7052  "
            ]
          },
          "execution_count": 3,
          "metadata": {},
          "output_type": "execute_result"
        }
      ],
      "source": [
        "\n",
        "big_mart_data.head()"
      ]
    },
    {
      "cell_type": "code",
      "execution_count": 4,
      "metadata": {
        "colab": {
          "base_uri": "https://localhost:8080/"
        },
        "id": "t_HuzdTTdiqb",
        "outputId": "090c93ea-7090-4d43-e566-c51aa70bedc1"
      },
      "outputs": [
        {
          "data": {
            "text/plain": [
              "(8523, 12)"
            ]
          },
          "execution_count": 4,
          "metadata": {},
          "output_type": "execute_result"
        }
      ],
      "source": [
        "# 데이터 갯수 및 피처 개수 보기\n",
        "big_mart_data.shape"
      ]
    },
    {
      "cell_type": "code",
      "execution_count": 5,
      "metadata": {
        "colab": {
          "base_uri": "https://localhost:8080/"
        },
        "id": "YzjdyEigd0GM",
        "outputId": "f507a5e7-5b3f-4523-f8bc-95af6e7e543e"
      },
      "outputs": [
        {
          "name": "stdout",
          "output_type": "stream",
          "text": [
            "<class 'pandas.core.frame.DataFrame'>\n",
            "RangeIndex: 8523 entries, 0 to 8522\n",
            "Data columns (total 12 columns):\n",
            " #   Column                     Non-Null Count  Dtype  \n",
            "---  ------                     --------------  -----  \n",
            " 0   Item_Identifier            8523 non-null   object \n",
            " 1   Item_Weight                7060 non-null   float64\n",
            " 2   Item_Fat_Content           8523 non-null   object \n",
            " 3   Item_Visibility            8523 non-null   float64\n",
            " 4   Item_Type                  8523 non-null   object \n",
            " 5   Item_MRP                   8523 non-null   float64\n",
            " 6   Outlet_Identifier          8523 non-null   object \n",
            " 7   Outlet_Establishment_Year  8523 non-null   int64  \n",
            " 8   Outlet_Size                6113 non-null   object \n",
            " 9   Outlet_Location_Type       8523 non-null   object \n",
            " 10  Outlet_Type                8523 non-null   object \n",
            " 11  Item_Outlet_Sales          8523 non-null   float64\n",
            "dtypes: float64(4), int64(1), object(7)\n",
            "memory usage: 799.2+ KB\n"
          ]
        }
      ],
      "source": [
        "# 데이터셋 정보 보기\n",
        "big_mart_data.info()"
      ]
    },
    {
      "cell_type": "code",
      "execution_count": 6,
      "metadata": {
        "id": "2cncN8QXfeXm"
      },
      "outputs": [],
      "source": [
        "# Categorical Features:\n",
        "# Item_Identifier           # 제품ID\n",
        "# Item_Fat_Content          # 저지장제품\n",
        "# Item_Type                 # 제품이 속한 카테고리\n",
        "# Outlet_Identifier         # 상점ID\n",
        "# Outlet_Size               # 상점규모\n",
        "# Outlet_Location_Type      # 상점이 위치한 도시의 유형\n",
        "# Outlet_Type               # 상점의 유형 (식료품점인지, 슈퍼마켓인지)"
      ]
    },
    {
      "cell_type": "code",
      "execution_count": 7,
      "metadata": {
        "colab": {
          "base_uri": "https://localhost:8080/"
        },
        "id": "fcsNUlTtej1f",
        "outputId": "fb1f2da1-43c0-4f09-e079-52902643686c"
      },
      "outputs": [
        {
          "data": {
            "text/plain": [
              "Item_Identifier                 0\n",
              "Item_Weight                  1463\n",
              "Item_Fat_Content                0\n",
              "Item_Visibility                 0\n",
              "Item_Type                       0\n",
              "Item_MRP                        0\n",
              "Outlet_Identifier               0\n",
              "Outlet_Establishment_Year       0\n",
              "Outlet_Size                  2410\n",
              "Outlet_Location_Type            0\n",
              "Outlet_Type                     0\n",
              "Item_Outlet_Sales               0\n",
              "dtype: int64"
            ]
          },
          "execution_count": 7,
          "metadata": {},
          "output_type": "execute_result"
        }
      ],
      "source": [
        "# null값 찾기\n",
        "big_mart_data.isnull().sum()"
      ]
    },
    {
      "cell_type": "markdown",
      "metadata": {
        "id": "N-yzq6Tvkpak"
      },
      "source": [
        "1. null 값 처리하기\n",
        "2. null 값을  평균 값으로 대체하기"
      ]
    },
    {
      "cell_type": "code",
      "execution_count": 8,
      "metadata": {
        "colab": {
          "base_uri": "https://localhost:8080/"
        },
        "id": "0Iim8oBml0H6",
        "outputId": "77cbbd5b-bad5-46c3-dc1a-f378a2b65ca0"
      },
      "outputs": [
        {
          "data": {
            "text/plain": [
              "12.857645184136183"
            ]
          },
          "execution_count": 8,
          "metadata": {},
          "output_type": "execute_result"
        }
      ],
      "source": [
        "#  Item_Weight의 평균값 구하기\n",
        "big_mart_data['Item_Weight'].mean()"
      ]
    },
    {
      "cell_type": "code",
      "execution_count": 9,
      "metadata": {
        "id": "HonvBOteewkc"
      },
      "outputs": [],
      "source": [
        "# item_weight nan값에 평균 값 넣기\n",
        "big_mart_data['Item_Weight'].fillna(big_mart_data['Item_Weight'].mean(), inplace=True)"
      ]
    },
    {
      "cell_type": "code",
      "execution_count": 10,
      "metadata": {
        "colab": {
          "base_uri": "https://localhost:8080/"
        },
        "id": "euBwdTyMnzCr",
        "outputId": "d83c13fd-4982-40b7-e640-d4f839c73642"
      },
      "outputs": [
        {
          "data": {
            "text/plain": [
              "0    Medium\n",
              "dtype: object"
            ]
          },
          "execution_count": 10,
          "metadata": {},
          "output_type": "execute_result"
        }
      ],
      "source": [
        "#  Outlet_Size value 값이 high, medium, small 값으로 나타냄으로 최빈값을 구하기\n",
        "big_mart_data['Outlet_Size'].mode()"
      ]
    },
    {
      "cell_type": "code",
      "execution_count": 11,
      "metadata": {},
      "outputs": [
        {
          "data": {
            "text/plain": [
              "Item_Identifier                 0\n",
              "Item_Weight                     0\n",
              "Item_Fat_Content                0\n",
              "Item_Visibility                 0\n",
              "Item_Type                       0\n",
              "Item_MRP                        0\n",
              "Outlet_Identifier               0\n",
              "Outlet_Establishment_Year       0\n",
              "Outlet_Size                  2410\n",
              "Outlet_Location_Type            0\n",
              "Outlet_Type                     0\n",
              "Item_Outlet_Sales               0\n",
              "dtype: int64"
            ]
          },
          "execution_count": 11,
          "metadata": {},
          "output_type": "execute_result"
        }
      ],
      "source": [
        "# Outlet_Size value 값 최빈값인 'medium'으로 채우기\n",
        "big_mart_data.apply(lambda x: sum(x.isnull()))"
      ]
    },
    {
      "cell_type": "code",
      "execution_count": 12,
      "metadata": {
        "colab": {
          "base_uri": "https://localhost:8080/"
        },
        "id": "Oo1Jor0qme3C",
        "outputId": "0bedb003-cd88-4310-a4b4-b93ca9497a7c"
      },
      "outputs": [
        {
          "data": {
            "text/plain": [
              "Item_Identifier                 0\n",
              "Item_Weight                     0\n",
              "Item_Fat_Content                0\n",
              "Item_Visibility                 0\n",
              "Item_Type                       0\n",
              "Item_MRP                        0\n",
              "Outlet_Identifier               0\n",
              "Outlet_Establishment_Year       0\n",
              "Outlet_Size                  2410\n",
              "Outlet_Location_Type            0\n",
              "Outlet_Type                     0\n",
              "Item_Outlet_Sales               0\n",
              "dtype: int64"
            ]
          },
          "execution_count": 12,
          "metadata": {},
          "output_type": "execute_result"
        }
      ],
      "source": [
        "# nan 값 확인하기\n",
        "big_mart_data.isnull().sum()"
      ]
    },
    {
      "cell_type": "markdown",
      "metadata": {
        "id": "rIC7GbtbsBRd"
      },
      "source": [
        "Data Analysis"
      ]
    },
    {
      "cell_type": "code",
      "execution_count": 13,
      "metadata": {
        "colab": {
          "base_uri": "https://localhost:8080/",
          "height": 293
        },
        "id": "E4Vyd4StBoBE",
        "outputId": "34b03c7a-3d0d-48b2-ce3c-02a18f527766"
      },
      "outputs": [
        {
          "data": {
            "text/html": [
              "<div>\n",
              "<style scoped>\n",
              "    .dataframe tbody tr th:only-of-type {\n",
              "        vertical-align: middle;\n",
              "    }\n",
              "\n",
              "    .dataframe tbody tr th {\n",
              "        vertical-align: top;\n",
              "    }\n",
              "\n",
              "    .dataframe thead th {\n",
              "        text-align: right;\n",
              "    }\n",
              "</style>\n",
              "<table border=\"1\" class=\"dataframe\">\n",
              "  <thead>\n",
              "    <tr style=\"text-align: right;\">\n",
              "      <th></th>\n",
              "      <th>Item_Weight</th>\n",
              "      <th>Item_Visibility</th>\n",
              "      <th>Item_MRP</th>\n",
              "      <th>Outlet_Establishment_Year</th>\n",
              "      <th>Item_Outlet_Sales</th>\n",
              "    </tr>\n",
              "  </thead>\n",
              "  <tbody>\n",
              "    <tr>\n",
              "      <th>count</th>\n",
              "      <td>8523.000000</td>\n",
              "      <td>8523.000000</td>\n",
              "      <td>8523.000000</td>\n",
              "      <td>8523.000000</td>\n",
              "      <td>8523.000000</td>\n",
              "    </tr>\n",
              "    <tr>\n",
              "      <th>mean</th>\n",
              "      <td>12.857645</td>\n",
              "      <td>0.066132</td>\n",
              "      <td>140.992782</td>\n",
              "      <td>1997.831867</td>\n",
              "      <td>2181.288914</td>\n",
              "    </tr>\n",
              "    <tr>\n",
              "      <th>std</th>\n",
              "      <td>4.226124</td>\n",
              "      <td>0.051598</td>\n",
              "      <td>62.275067</td>\n",
              "      <td>8.371760</td>\n",
              "      <td>1706.499616</td>\n",
              "    </tr>\n",
              "    <tr>\n",
              "      <th>min</th>\n",
              "      <td>4.555000</td>\n",
              "      <td>0.000000</td>\n",
              "      <td>31.290000</td>\n",
              "      <td>1985.000000</td>\n",
              "      <td>33.290000</td>\n",
              "    </tr>\n",
              "    <tr>\n",
              "      <th>25%</th>\n",
              "      <td>9.310000</td>\n",
              "      <td>0.026989</td>\n",
              "      <td>93.826500</td>\n",
              "      <td>1987.000000</td>\n",
              "      <td>834.247400</td>\n",
              "    </tr>\n",
              "    <tr>\n",
              "      <th>50%</th>\n",
              "      <td>12.857645</td>\n",
              "      <td>0.053931</td>\n",
              "      <td>143.012800</td>\n",
              "      <td>1999.000000</td>\n",
              "      <td>1794.331000</td>\n",
              "    </tr>\n",
              "    <tr>\n",
              "      <th>75%</th>\n",
              "      <td>16.000000</td>\n",
              "      <td>0.094585</td>\n",
              "      <td>185.643700</td>\n",
              "      <td>2004.000000</td>\n",
              "      <td>3101.296400</td>\n",
              "    </tr>\n",
              "    <tr>\n",
              "      <th>max</th>\n",
              "      <td>21.350000</td>\n",
              "      <td>0.328391</td>\n",
              "      <td>266.888400</td>\n",
              "      <td>2009.000000</td>\n",
              "      <td>13086.964800</td>\n",
              "    </tr>\n",
              "  </tbody>\n",
              "</table>\n",
              "</div>"
            ],
            "text/plain": [
              "       Item_Weight  Item_Visibility     Item_MRP  Outlet_Establishment_Year  \\\n",
              "count  8523.000000      8523.000000  8523.000000                8523.000000   \n",
              "mean     12.857645         0.066132   140.992782                1997.831867   \n",
              "std       4.226124         0.051598    62.275067                   8.371760   \n",
              "min       4.555000         0.000000    31.290000                1985.000000   \n",
              "25%       9.310000         0.026989    93.826500                1987.000000   \n",
              "50%      12.857645         0.053931   143.012800                1999.000000   \n",
              "75%      16.000000         0.094585   185.643700                2004.000000   \n",
              "max      21.350000         0.328391   266.888400                2009.000000   \n",
              "\n",
              "       Item_Outlet_Sales  \n",
              "count        8523.000000  \n",
              "mean         2181.288914  \n",
              "std          1706.499616  \n",
              "min            33.290000  \n",
              "25%           834.247400  \n",
              "50%          1794.331000  \n",
              "75%          3101.296400  \n",
              "max         13086.964800  "
            ]
          },
          "execution_count": 13,
          "metadata": {},
          "output_type": "execute_result"
        }
      ],
      "source": [
        "big_mart_data.describe()"
      ]
    },
    {
      "cell_type": "code",
      "execution_count": 14,
      "metadata": {},
      "outputs": [
        {
          "data": {
            "text/html": [
              "<div>\n",
              "<style scoped>\n",
              "    .dataframe tbody tr th:only-of-type {\n",
              "        vertical-align: middle;\n",
              "    }\n",
              "\n",
              "    .dataframe tbody tr th {\n",
              "        vertical-align: top;\n",
              "    }\n",
              "\n",
              "    .dataframe thead th {\n",
              "        text-align: right;\n",
              "    }\n",
              "</style>\n",
              "<table border=\"1\" class=\"dataframe\">\n",
              "  <thead>\n",
              "    <tr style=\"text-align: right;\">\n",
              "      <th></th>\n",
              "      <th>Item_Identifier</th>\n",
              "      <th>Item_Weight</th>\n",
              "      <th>Item_Fat_Content</th>\n",
              "      <th>Item_Visibility</th>\n",
              "      <th>Item_Type</th>\n",
              "      <th>Item_MRP</th>\n",
              "      <th>Outlet_Identifier</th>\n",
              "      <th>Outlet_Establishment_Year</th>\n",
              "      <th>Outlet_Size</th>\n",
              "      <th>Outlet_Location_Type</th>\n",
              "      <th>Outlet_Type</th>\n",
              "      <th>Item_Outlet_Sales</th>\n",
              "    </tr>\n",
              "  </thead>\n",
              "  <tbody>\n",
              "    <tr>\n",
              "      <th>0</th>\n",
              "      <td>FDA15</td>\n",
              "      <td>9.300</td>\n",
              "      <td>Low Fat</td>\n",
              "      <td>0.016047</td>\n",
              "      <td>Dairy</td>\n",
              "      <td>249.8092</td>\n",
              "      <td>OUT049</td>\n",
              "      <td>1999</td>\n",
              "      <td>Medium</td>\n",
              "      <td>Tier 1</td>\n",
              "      <td>Supermarket Type1</td>\n",
              "      <td>3735.1380</td>\n",
              "    </tr>\n",
              "    <tr>\n",
              "      <th>1</th>\n",
              "      <td>DRC01</td>\n",
              "      <td>5.920</td>\n",
              "      <td>Regular</td>\n",
              "      <td>0.019278</td>\n",
              "      <td>Soft Drinks</td>\n",
              "      <td>48.2692</td>\n",
              "      <td>OUT018</td>\n",
              "      <td>2009</td>\n",
              "      <td>Medium</td>\n",
              "      <td>Tier 3</td>\n",
              "      <td>Supermarket Type2</td>\n",
              "      <td>443.4228</td>\n",
              "    </tr>\n",
              "    <tr>\n",
              "      <th>2</th>\n",
              "      <td>FDN15</td>\n",
              "      <td>17.500</td>\n",
              "      <td>Low Fat</td>\n",
              "      <td>0.016760</td>\n",
              "      <td>Meat</td>\n",
              "      <td>141.6180</td>\n",
              "      <td>OUT049</td>\n",
              "      <td>1999</td>\n",
              "      <td>Medium</td>\n",
              "      <td>Tier 1</td>\n",
              "      <td>Supermarket Type1</td>\n",
              "      <td>2097.2700</td>\n",
              "    </tr>\n",
              "    <tr>\n",
              "      <th>3</th>\n",
              "      <td>FDX07</td>\n",
              "      <td>19.200</td>\n",
              "      <td>Regular</td>\n",
              "      <td>0.000000</td>\n",
              "      <td>Fruits and Vegetables</td>\n",
              "      <td>182.0950</td>\n",
              "      <td>OUT010</td>\n",
              "      <td>1998</td>\n",
              "      <td>NaN</td>\n",
              "      <td>Tier 3</td>\n",
              "      <td>Grocery Store</td>\n",
              "      <td>732.3800</td>\n",
              "    </tr>\n",
              "    <tr>\n",
              "      <th>4</th>\n",
              "      <td>NCD19</td>\n",
              "      <td>8.930</td>\n",
              "      <td>Low Fat</td>\n",
              "      <td>0.000000</td>\n",
              "      <td>Household</td>\n",
              "      <td>53.8614</td>\n",
              "      <td>OUT013</td>\n",
              "      <td>1987</td>\n",
              "      <td>High</td>\n",
              "      <td>Tier 3</td>\n",
              "      <td>Supermarket Type1</td>\n",
              "      <td>994.7052</td>\n",
              "    </tr>\n",
              "    <tr>\n",
              "      <th>...</th>\n",
              "      <td>...</td>\n",
              "      <td>...</td>\n",
              "      <td>...</td>\n",
              "      <td>...</td>\n",
              "      <td>...</td>\n",
              "      <td>...</td>\n",
              "      <td>...</td>\n",
              "      <td>...</td>\n",
              "      <td>...</td>\n",
              "      <td>...</td>\n",
              "      <td>...</td>\n",
              "      <td>...</td>\n",
              "    </tr>\n",
              "    <tr>\n",
              "      <th>8518</th>\n",
              "      <td>FDF22</td>\n",
              "      <td>6.865</td>\n",
              "      <td>Low Fat</td>\n",
              "      <td>0.056783</td>\n",
              "      <td>Snack Foods</td>\n",
              "      <td>214.5218</td>\n",
              "      <td>OUT013</td>\n",
              "      <td>1987</td>\n",
              "      <td>High</td>\n",
              "      <td>Tier 3</td>\n",
              "      <td>Supermarket Type1</td>\n",
              "      <td>2778.3834</td>\n",
              "    </tr>\n",
              "    <tr>\n",
              "      <th>8519</th>\n",
              "      <td>FDS36</td>\n",
              "      <td>8.380</td>\n",
              "      <td>Regular</td>\n",
              "      <td>0.046982</td>\n",
              "      <td>Baking Goods</td>\n",
              "      <td>108.1570</td>\n",
              "      <td>OUT045</td>\n",
              "      <td>2002</td>\n",
              "      <td>NaN</td>\n",
              "      <td>Tier 2</td>\n",
              "      <td>Supermarket Type1</td>\n",
              "      <td>549.2850</td>\n",
              "    </tr>\n",
              "    <tr>\n",
              "      <th>8520</th>\n",
              "      <td>NCJ29</td>\n",
              "      <td>10.600</td>\n",
              "      <td>Low Fat</td>\n",
              "      <td>0.035186</td>\n",
              "      <td>Health and Hygiene</td>\n",
              "      <td>85.1224</td>\n",
              "      <td>OUT035</td>\n",
              "      <td>2004</td>\n",
              "      <td>Small</td>\n",
              "      <td>Tier 2</td>\n",
              "      <td>Supermarket Type1</td>\n",
              "      <td>1193.1136</td>\n",
              "    </tr>\n",
              "    <tr>\n",
              "      <th>8521</th>\n",
              "      <td>FDN46</td>\n",
              "      <td>7.210</td>\n",
              "      <td>Regular</td>\n",
              "      <td>0.145221</td>\n",
              "      <td>Snack Foods</td>\n",
              "      <td>103.1332</td>\n",
              "      <td>OUT018</td>\n",
              "      <td>2009</td>\n",
              "      <td>Medium</td>\n",
              "      <td>Tier 3</td>\n",
              "      <td>Supermarket Type2</td>\n",
              "      <td>1845.5976</td>\n",
              "    </tr>\n",
              "    <tr>\n",
              "      <th>8522</th>\n",
              "      <td>DRG01</td>\n",
              "      <td>14.800</td>\n",
              "      <td>Low Fat</td>\n",
              "      <td>0.044878</td>\n",
              "      <td>Soft Drinks</td>\n",
              "      <td>75.4670</td>\n",
              "      <td>OUT046</td>\n",
              "      <td>1997</td>\n",
              "      <td>Small</td>\n",
              "      <td>Tier 1</td>\n",
              "      <td>Supermarket Type1</td>\n",
              "      <td>765.6700</td>\n",
              "    </tr>\n",
              "  </tbody>\n",
              "</table>\n",
              "<p>8523 rows × 12 columns</p>\n",
              "</div>"
            ],
            "text/plain": [
              "     Item_Identifier  Item_Weight Item_Fat_Content  Item_Visibility  \\\n",
              "0              FDA15        9.300          Low Fat         0.016047   \n",
              "1              DRC01        5.920          Regular         0.019278   \n",
              "2              FDN15       17.500          Low Fat         0.016760   \n",
              "3              FDX07       19.200          Regular         0.000000   \n",
              "4              NCD19        8.930          Low Fat         0.000000   \n",
              "...              ...          ...              ...              ...   \n",
              "8518           FDF22        6.865          Low Fat         0.056783   \n",
              "8519           FDS36        8.380          Regular         0.046982   \n",
              "8520           NCJ29       10.600          Low Fat         0.035186   \n",
              "8521           FDN46        7.210          Regular         0.145221   \n",
              "8522           DRG01       14.800          Low Fat         0.044878   \n",
              "\n",
              "                  Item_Type  Item_MRP Outlet_Identifier  \\\n",
              "0                     Dairy  249.8092            OUT049   \n",
              "1               Soft Drinks   48.2692            OUT018   \n",
              "2                      Meat  141.6180            OUT049   \n",
              "3     Fruits and Vegetables  182.0950            OUT010   \n",
              "4                 Household   53.8614            OUT013   \n",
              "...                     ...       ...               ...   \n",
              "8518            Snack Foods  214.5218            OUT013   \n",
              "8519           Baking Goods  108.1570            OUT045   \n",
              "8520     Health and Hygiene   85.1224            OUT035   \n",
              "8521            Snack Foods  103.1332            OUT018   \n",
              "8522            Soft Drinks   75.4670            OUT046   \n",
              "\n",
              "      Outlet_Establishment_Year Outlet_Size Outlet_Location_Type  \\\n",
              "0                          1999      Medium               Tier 1   \n",
              "1                          2009      Medium               Tier 3   \n",
              "2                          1999      Medium               Tier 1   \n",
              "3                          1998         NaN               Tier 3   \n",
              "4                          1987        High               Tier 3   \n",
              "...                         ...         ...                  ...   \n",
              "8518                       1987        High               Tier 3   \n",
              "8519                       2002         NaN               Tier 2   \n",
              "8520                       2004       Small               Tier 2   \n",
              "8521                       2009      Medium               Tier 3   \n",
              "8522                       1997       Small               Tier 1   \n",
              "\n",
              "            Outlet_Type  Item_Outlet_Sales  \n",
              "0     Supermarket Type1          3735.1380  \n",
              "1     Supermarket Type2           443.4228  \n",
              "2     Supermarket Type1          2097.2700  \n",
              "3         Grocery Store           732.3800  \n",
              "4     Supermarket Type1           994.7052  \n",
              "...                 ...                ...  \n",
              "8518  Supermarket Type1          2778.3834  \n",
              "8519  Supermarket Type1           549.2850  \n",
              "8520  Supermarket Type1          1193.1136  \n",
              "8521  Supermarket Type2          1845.5976  \n",
              "8522  Supermarket Type1           765.6700  \n",
              "\n",
              "[8523 rows x 12 columns]"
            ]
          },
          "execution_count": 14,
          "metadata": {},
          "output_type": "execute_result"
        }
      ],
      "source": [
        "big_mart_data"
      ]
    },
    {
      "cell_type": "code",
      "execution_count": 15,
      "metadata": {},
      "outputs": [],
      "source": [
        "big_mart_data.rename(columns={'Item_Identifier': '제품고유ID','Item_Weight': '제품무게', 'Item_Fat_Content':'저지방구분', 'Item_Visibility':'제품가시성', 'Item_Type':'제품카테고리','Item_MRP':'제품최대가격','Outlet_Identifier':'상점ID','Outlet_Establishment_Year':'설립연도','Outlet_Size':'매장규모','Outlet_Location_Type':'도시유형','Outlet_Type':'매장의유형','Item_Outlet_Sales':'매장에서의제품판매량'}, inplace=True)\n"
      ]
    },
    {
      "cell_type": "code",
      "execution_count": 16,
      "metadata": {},
      "outputs": [
        {
          "data": {
            "text/html": [
              "<div>\n",
              "<style scoped>\n",
              "    .dataframe tbody tr th:only-of-type {\n",
              "        vertical-align: middle;\n",
              "    }\n",
              "\n",
              "    .dataframe tbody tr th {\n",
              "        vertical-align: top;\n",
              "    }\n",
              "\n",
              "    .dataframe thead th {\n",
              "        text-align: right;\n",
              "    }\n",
              "</style>\n",
              "<table border=\"1\" class=\"dataframe\">\n",
              "  <thead>\n",
              "    <tr style=\"text-align: right;\">\n",
              "      <th></th>\n",
              "      <th>제품고유ID</th>\n",
              "      <th>제품무게</th>\n",
              "      <th>저지방구분</th>\n",
              "      <th>제품가시성</th>\n",
              "      <th>제품카테고리</th>\n",
              "      <th>제품최대가격</th>\n",
              "      <th>상점ID</th>\n",
              "      <th>설립연도</th>\n",
              "      <th>매장규모</th>\n",
              "      <th>도시유형</th>\n",
              "      <th>매장의유형</th>\n",
              "      <th>매장에서의제품판매량</th>\n",
              "    </tr>\n",
              "  </thead>\n",
              "  <tbody>\n",
              "    <tr>\n",
              "      <th>0</th>\n",
              "      <td>FDA15</td>\n",
              "      <td>9.30</td>\n",
              "      <td>Low Fat</td>\n",
              "      <td>0.016047</td>\n",
              "      <td>Dairy</td>\n",
              "      <td>249.8092</td>\n",
              "      <td>OUT049</td>\n",
              "      <td>1999</td>\n",
              "      <td>Medium</td>\n",
              "      <td>Tier 1</td>\n",
              "      <td>Supermarket Type1</td>\n",
              "      <td>3735.1380</td>\n",
              "    </tr>\n",
              "    <tr>\n",
              "      <th>1</th>\n",
              "      <td>DRC01</td>\n",
              "      <td>5.92</td>\n",
              "      <td>Regular</td>\n",
              "      <td>0.019278</td>\n",
              "      <td>Soft Drinks</td>\n",
              "      <td>48.2692</td>\n",
              "      <td>OUT018</td>\n",
              "      <td>2009</td>\n",
              "      <td>Medium</td>\n",
              "      <td>Tier 3</td>\n",
              "      <td>Supermarket Type2</td>\n",
              "      <td>443.4228</td>\n",
              "    </tr>\n",
              "    <tr>\n",
              "      <th>2</th>\n",
              "      <td>FDN15</td>\n",
              "      <td>17.50</td>\n",
              "      <td>Low Fat</td>\n",
              "      <td>0.016760</td>\n",
              "      <td>Meat</td>\n",
              "      <td>141.6180</td>\n",
              "      <td>OUT049</td>\n",
              "      <td>1999</td>\n",
              "      <td>Medium</td>\n",
              "      <td>Tier 1</td>\n",
              "      <td>Supermarket Type1</td>\n",
              "      <td>2097.2700</td>\n",
              "    </tr>\n",
              "  </tbody>\n",
              "</table>\n",
              "</div>"
            ],
            "text/plain": [
              "  제품고유ID   제품무게    저지방구분     제품가시성       제품카테고리    제품최대가격    상점ID  설립연도  \\\n",
              "0  FDA15   9.30  Low Fat  0.016047        Dairy  249.8092  OUT049  1999   \n",
              "1  DRC01   5.92  Regular  0.019278  Soft Drinks   48.2692  OUT018  2009   \n",
              "2  FDN15  17.50  Low Fat  0.016760         Meat  141.6180  OUT049  1999   \n",
              "\n",
              "     매장규모    도시유형              매장의유형  매장에서의제품판매량  \n",
              "0  Medium  Tier 1  Supermarket Type1   3735.1380  \n",
              "1  Medium  Tier 3  Supermarket Type2    443.4228  \n",
              "2  Medium  Tier 1  Supermarket Type1   2097.2700  "
            ]
          },
          "execution_count": 16,
          "metadata": {},
          "output_type": "execute_result"
        }
      ],
      "source": [
        "big_mart_data.head(3)"
      ]
    },
    {
      "cell_type": "markdown",
      "metadata": {
        "id": "GdDN9rvWuICQ"
      },
      "source": [
        "수치 피쳐"
      ]
    },
    {
      "cell_type": "code",
      "execution_count": 17,
      "metadata": {
        "id": "1GKY5qyrtJqs"
      },
      "outputs": [],
      "source": [
        "sns.set()\n",
        "plt.rc('font', family='Malgun Gothic')"
      ]
    },
    {
      "cell_type": "code",
      "execution_count": 18,
      "metadata": {
        "colab": {
          "base_uri": "https://localhost:8080/",
          "height": 491
        },
        "id": "5rksM5MimhOF",
        "outputId": "257a7add-ef40-4bcc-a26e-cb8482d4e85c"
      },
      "outputs": [
        {
          "name": "stderr",
          "output_type": "stream",
          "text": [
            "C:\\ProgramData\\Anaconda3\\lib\\site-packages\\seaborn\\distributions.py:2557: FutureWarning: `distplot` is a deprecated function and will be removed in a future version. Please adapt your code to use either `displot` (a figure-level function with similar flexibility) or `histplot` (an axes-level function for histograms).\n",
            "  warnings.warn(msg, FutureWarning)\n"
          ]
        },
        {
          "data": {
            "image/png": "[encoded data removed]",
            "text/plain": [
              "<Figure size 432x432 with 1 Axes>"
            ]
          },
          "metadata": {},
          "output_type": "display_data"
        }
      ],
      "source": [
        "# Item_Weight 분포\n",
        "plt.figure(figsize=(6,6))\n",
        "sns.distplot(big_mart_data['제품무게'])\n",
        "plt.show()"
      ]
    },
    {
      "cell_type": "code",
      "execution_count": 19,
      "metadata": {
        "colab": {
          "base_uri": "https://localhost:8080/",
          "height": 491
        },
        "id": "LE1yDwIxsOAl",
        "outputId": "6450d8e5-b99f-4c76-d619-b631da5b1c7f"
      },
      "outputs": [
        {
          "name": "stderr",
          "output_type": "stream",
          "text": [
            "C:\\ProgramData\\Anaconda3\\lib\\site-packages\\seaborn\\distributions.py:2557: FutureWarning: `distplot` is a deprecated function and will be removed in a future version. Please adapt your code to use either `displot` (a figure-level function with similar flexibility) or `histplot` (an axes-level function for histograms).\n",
            "  warnings.warn(msg, FutureWarning)\n"
          ]
        },
        {
          "data": {
            "image/png": "[encoded data removed]",
            "text/plain": [
              "<Figure size 432x432 with 1 Axes>"
            ]
          },
          "metadata": {},
          "output_type": "display_data"
        }
      ],
      "source": [
        "# Item Visibility 분포\n",
        "plt.figure(figsize=(6,6))\n",
        "sns.distplot(big_mart_data['제품가시성'])\n",
        "plt.show()"
      ]
    },
    {
      "cell_type": "code",
      "execution_count": 20,
      "metadata": {
        "colab": {
          "base_uri": "https://localhost:8080/",
          "height": 491
        },
        "id": "-qLPjmVSsYVN",
        "outputId": "c3e5adbb-1ecf-4f0d-e9d6-300322cef34f"
      },
      "outputs": [
        {
          "name": "stderr",
          "output_type": "stream",
          "text": [
            "C:\\ProgramData\\Anaconda3\\lib\\site-packages\\seaborn\\distributions.py:2557: FutureWarning: `distplot` is a deprecated function and will be removed in a future version. Please adapt your code to use either `displot` (a figure-level function with similar flexibility) or `histplot` (an axes-level function for histograms).\n",
            "  warnings.warn(msg, FutureWarning)\n"
          ]
        },
        {
          "data": {
            "image/png": "[encoded data removed]",
            "text/plain": [
              "<Figure size 432x432 with 1 Axes>"
            ]
          },
          "metadata": {},
          "output_type": "display_data"
        }
      ],
      "source": [
        "# Item MRP 분포\n",
        "plt.figure(figsize=(6,6))\n",
        "sns.distplot(big_mart_data['제품최대가격'])\n",
        "plt.show()"
      ]
    },
    {
      "cell_type": "code",
      "execution_count": 21,
      "metadata": {
        "colab": {
          "base_uri": "https://localhost:8080/",
          "height": 491
        },
        "id": "pEPbiUEjttpz",
        "outputId": "109abccb-e359-44f1-8731-bb790ff368d9"
      },
      "outputs": [
        {
          "name": "stderr",
          "output_type": "stream",
          "text": [
            "C:\\ProgramData\\Anaconda3\\lib\\site-packages\\seaborn\\distributions.py:2557: FutureWarning: `distplot` is a deprecated function and will be removed in a future version. Please adapt your code to use either `displot` (a figure-level function with similar flexibility) or `histplot` (an axes-level function for histograms).\n",
            "  warnings.warn(msg, FutureWarning)\n"
          ]
        },
        {
          "data": {
            "image/png": "[encoded data removed]",
            "text/plain": [
              "<Figure size 432x432 with 1 Axes>"
            ]
          },
          "metadata": {},
          "output_type": "display_data"
        }
      ],
      "source": [
        "# 매장에서의제품판매량 분포\n",
        "plt.figure(figsize=(6,6))\n",
        "sns.distplot(big_mart_data['매장에서의제품판매량'])\n",
        "plt.show()"
      ]
    },
    {
      "cell_type": "code",
      "execution_count": 22,
      "metadata": {
        "colab": {
          "base_uri": "https://localhost:8080/",
          "height": 394
        },
        "id": "S1PNqe_3uLfU",
        "outputId": "1e94e1c0-6ab3-40f0-8e52-02ac70e66366"
      },
      "outputs": [
        {
          "data": {
            "image/png": "[encoded data removed]",
            "text/plain": [
              "<Figure size 432x432 with 1 Axes>"
            ]
          },
          "metadata": {},
          "output_type": "display_data"
        }
      ],
      "source": [
        "# 설립연도 \n",
        "plt.figure(figsize=(6,6))\n",
        "sns.countplot(x='설립연도', data=big_mart_data)\n",
        "plt.show()"
      ]
    },
    {
      "cell_type": "markdown",
      "metadata": {
        "id": "IGtSKeFnuNJy"
      },
      "source": [
        "카테고리별 피쳐"
      ]
    },
    {
      "cell_type": "code",
      "execution_count": 23,
      "metadata": {
        "colab": {
          "base_uri": "https://localhost:8080/",
          "height": 394
        },
        "id": "6hXxeo9dt-Js",
        "outputId": "1a80d61a-851d-4c8d-8034-e5853687e836"
      },
      "outputs": [
        {
          "data": {
            "image/png": "[encoded data removed]",
            "text/plain": [
              "<Figure size 432x432 with 1 Axes>"
            ]
          },
          "metadata": {},
          "output_type": "display_data"
        }
      ],
      "source": [
        "# 저지방구분\n",
        "plt.figure(figsize=(6,6))\n",
        "sns.countplot(x='저지방구분', data=big_mart_data)\n",
        "plt.show()"
      ]
    },
    {
      "cell_type": "code",
      "execution_count": 25,
      "metadata": {
        "colab": {
          "base_uri": "https://localhost:8080/",
          "height": 202
        },
        "id": "RHm0Sh8vuyKM",
        "outputId": "9610a8eb-b002-45d9-e385-cbabb3c816c7"
      },
      "outputs": [
        {
          "data": {
            "image/png": "[encoded data removed]",
            "text/plain": [
              "<Figure size 2160x432 with 1 Axes>"
            ]
          },
          "metadata": {},
          "output_type": "display_data"
        }
      ],
      "source": [
        "# 제품카테고리 column\n",
        "plt.figure(figsize=(30,6))\n",
        "sns.countplot(x='제품카테고리', data=big_mart_data)\n",
        "plt.show()"
      ]
    },
    {
      "cell_type": "code",
      "execution_count": 35,
      "metadata": {
        "colab": {
          "base_uri": "https://localhost:8080/",
          "height": 395
        },
        "id": "nLkJIy3NF2Gd",
        "outputId": "0d924369-3dbf-4a1b-a4e6-d30ec95449cb"
      },
      "outputs": [
        {
          "data": {
            "image/png": "[encoded data removed]",
            "text/plain": [
              "<Figure size 432x432 with 1 Axes>"
            ]
          },
          "metadata": {},
          "output_type": "display_data"
        }
      ],
      "source": [
        "# 매장규모 \n",
        "plt.figure(figsize=(6,6))\n",
        "sns.countplot(x='매장규모', data=big_mart_data)\n",
        "plt.show()"
      ]
    },
    {
      "cell_type": "markdown",
      "metadata": {
        "id": "adBk67n8GjAH"
      },
      "source": [
        "데이터 전처리"
      ]
    },
    {
      "cell_type": "code",
      "execution_count": 26,
      "metadata": {
        "colab": {
          "base_uri": "https://localhost:8080/",
          "height": 307
        },
        "id": "KhYlm6NiGYa6",
        "outputId": "81ef2d74-e7d2-4653-da6c-065acae75301"
      },
      "outputs": [
        {
          "data": {
            "text/html": [
              "<div>\n",
              "<style scoped>\n",
              "    .dataframe tbody tr th:only-of-type {\n",
              "        vertical-align: middle;\n",
              "    }\n",
              "\n",
              "    .dataframe tbody tr th {\n",
              "        vertical-align: top;\n",
              "    }\n",
              "\n",
              "    .dataframe thead th {\n",
              "        text-align: right;\n",
              "    }\n",
              "</style>\n",
              "<table border=\"1\" class=\"dataframe\">\n",
              "  <thead>\n",
              "    <tr style=\"text-align: right;\">\n",
              "      <th></th>\n",
              "      <th>제품고유ID</th>\n",
              "      <th>제품무게</th>\n",
              "      <th>저지방구분</th>\n",
              "      <th>제품가시성</th>\n",
              "      <th>제품카테고리</th>\n",
              "      <th>제품최대가격</th>\n",
              "      <th>상점ID</th>\n",
              "      <th>설립연도</th>\n",
              "      <th>매장규모</th>\n",
              "      <th>도시유형</th>\n",
              "      <th>매장의유형</th>\n",
              "      <th>매장에서의제품판매량</th>\n",
              "    </tr>\n",
              "  </thead>\n",
              "  <tbody>\n",
              "    <tr>\n",
              "      <th>0</th>\n",
              "      <td>FDA15</td>\n",
              "      <td>9.30</td>\n",
              "      <td>Low Fat</td>\n",
              "      <td>0.016047</td>\n",
              "      <td>Dairy</td>\n",
              "      <td>249.8092</td>\n",
              "      <td>OUT049</td>\n",
              "      <td>1999</td>\n",
              "      <td>Medium</td>\n",
              "      <td>Tier 1</td>\n",
              "      <td>Supermarket Type1</td>\n",
              "      <td>3735.1380</td>\n",
              "    </tr>\n",
              "    <tr>\n",
              "      <th>1</th>\n",
              "      <td>DRC01</td>\n",
              "      <td>5.92</td>\n",
              "      <td>Regular</td>\n",
              "      <td>0.019278</td>\n",
              "      <td>Soft Drinks</td>\n",
              "      <td>48.2692</td>\n",
              "      <td>OUT018</td>\n",
              "      <td>2009</td>\n",
              "      <td>Medium</td>\n",
              "      <td>Tier 3</td>\n",
              "      <td>Supermarket Type2</td>\n",
              "      <td>443.4228</td>\n",
              "    </tr>\n",
              "    <tr>\n",
              "      <th>2</th>\n",
              "      <td>FDN15</td>\n",
              "      <td>17.50</td>\n",
              "      <td>Low Fat</td>\n",
              "      <td>0.016760</td>\n",
              "      <td>Meat</td>\n",
              "      <td>141.6180</td>\n",
              "      <td>OUT049</td>\n",
              "      <td>1999</td>\n",
              "      <td>Medium</td>\n",
              "      <td>Tier 1</td>\n",
              "      <td>Supermarket Type1</td>\n",
              "      <td>2097.2700</td>\n",
              "    </tr>\n",
              "    <tr>\n",
              "      <th>3</th>\n",
              "      <td>FDX07</td>\n",
              "      <td>19.20</td>\n",
              "      <td>Regular</td>\n",
              "      <td>0.000000</td>\n",
              "      <td>Fruits and Vegetables</td>\n",
              "      <td>182.0950</td>\n",
              "      <td>OUT010</td>\n",
              "      <td>1998</td>\n",
              "      <td>NaN</td>\n",
              "      <td>Tier 3</td>\n",
              "      <td>Grocery Store</td>\n",
              "      <td>732.3800</td>\n",
              "    </tr>\n",
              "    <tr>\n",
              "      <th>4</th>\n",
              "      <td>NCD19</td>\n",
              "      <td>8.93</td>\n",
              "      <td>Low Fat</td>\n",
              "      <td>0.000000</td>\n",
              "      <td>Household</td>\n",
              "      <td>53.8614</td>\n",
              "      <td>OUT013</td>\n",
              "      <td>1987</td>\n",
              "      <td>High</td>\n",
              "      <td>Tier 3</td>\n",
              "      <td>Supermarket Type1</td>\n",
              "      <td>994.7052</td>\n",
              "    </tr>\n",
              "  </tbody>\n",
              "</table>\n",
              "</div>"
            ],
            "text/plain": [
              "  제품고유ID   제품무게    저지방구분     제품가시성                 제품카테고리    제품최대가격    상점ID  \\\n",
              "0  FDA15   9.30  Low Fat  0.016047                  Dairy  249.8092  OUT049   \n",
              "1  DRC01   5.92  Regular  0.019278            Soft Drinks   48.2692  OUT018   \n",
              "2  FDN15  17.50  Low Fat  0.016760                   Meat  141.6180  OUT049   \n",
              "3  FDX07  19.20  Regular  0.000000  Fruits and Vegetables  182.0950  OUT010   \n",
              "4  NCD19   8.93  Low Fat  0.000000              Household   53.8614  OUT013   \n",
              "\n",
              "   설립연도    매장규모    도시유형              매장의유형  매장에서의제품판매량  \n",
              "0  1999  Medium  Tier 1  Supermarket Type1   3735.1380  \n",
              "1  2009  Medium  Tier 3  Supermarket Type2    443.4228  \n",
              "2  1999  Medium  Tier 1  Supermarket Type1   2097.2700  \n",
              "3  1998     NaN  Tier 3      Grocery Store    732.3800  \n",
              "4  1987    High  Tier 3  Supermarket Type1    994.7052  "
            ]
          },
          "execution_count": 26,
          "metadata": {},
          "output_type": "execute_result"
        }
      ],
      "source": [
        "big_mart_data.head()"
      ]
    },
    {
      "cell_type": "code",
      "execution_count": 27,
      "metadata": {
        "colab": {
          "base_uri": "https://localhost:8080/"
        },
        "id": "i2N8zbcdGnUy",
        "outputId": "008291ee-060f-4597-e8e7-3e485e073455"
      },
      "outputs": [
        {
          "data": {
            "text/plain": [
              "Low Fat    5089\n",
              "Regular    2889\n",
              "LF          316\n",
              "reg         117\n",
              "low fat     112\n",
              "Name: 저지방구분, dtype: int64"
            ]
          },
          "execution_count": 27,
          "metadata": {},
          "output_type": "execute_result"
        }
      ],
      "source": [
        "big_mart_data['저지방구분'].value_counts()"
      ]
    },
    {
      "cell_type": "code",
      "execution_count": 28,
      "metadata": {
        "id": "29VZp_RaG2W-"
      },
      "outputs": [],
      "source": [
        "big_mart_data.replace({'저지방구분': {'low fat':'Low Fat','LF':'Low Fat', 'reg':'Regular'}}, inplace=True)"
      ]
    },
    {
      "cell_type": "code",
      "execution_count": 29,
      "metadata": {
        "colab": {
          "base_uri": "https://localhost:8080/"
        },
        "id": "-Ejg24CTHRXJ",
        "outputId": "fe1504ee-9fdc-48bc-ed87-7dd816309aa9"
      },
      "outputs": [
        {
          "data": {
            "text/plain": [
              "Low Fat    5517\n",
              "Regular    3006\n",
              "Name: 저지방구분, dtype: int64"
            ]
          },
          "execution_count": 29,
          "metadata": {},
          "output_type": "execute_result"
        }
      ],
      "source": [
        "big_mart_data['저지방구분'].value_counts()"
      ]
    },
    {
      "cell_type": "markdown",
      "metadata": {
        "id": "xTN9xWEnHhhQ"
      },
      "source": [
        "Label Encoding : 범주형 변수의 문자열을 수치형으로 변환"
      ]
    },
    {
      "cell_type": "code",
      "execution_count": 31,
      "metadata": {
        "id": "SxHOpkH0Hc75"
      },
      "outputs": [],
      "source": [
        "encoder = LabelEncoder()"
      ]
    },
    {
      "cell_type": "code",
      "execution_count": 32,
      "metadata": {
        "id": "qAwLCxCWHsl_"
      },
      "outputs": [],
      "source": [
        "big_mart_data['제품고유ID'] = encoder.fit_transform(big_mart_data['제품고유ID'])\n",
        "\n",
        "big_mart_data['저지방구분'] = encoder.fit_transform(big_mart_data['저지방구분'])\n",
        "\n",
        "big_mart_data['제품카테고리'] = encoder.fit_transform(big_mart_data['제품카테고리'])\n",
        "\n",
        "big_mart_data['상점ID'] = encoder.fit_transform(big_mart_data['상점ID'])\n",
        "\n",
        "big_mart_data['매장규모'] = encoder.fit_transform(big_mart_data['매장규모'])\n",
        "\n",
        "big_mart_data['도시유형'] = encoder.fit_transform(big_mart_data['도시유형'])\n",
        "\n",
        "big_mart_data['매장의유형'] = encoder.fit_transform(big_mart_data['매장의유형'])"
      ]
    },
    {
      "cell_type": "code",
      "execution_count": 33,
      "metadata": {
        "colab": {
          "base_uri": "https://localhost:8080/",
          "height": 221
        },
        "id": "SzL_IgO1IVUv",
        "outputId": "95cc83a0-723f-48a0-a47a-47244dd22cf6"
      },
      "outputs": [
        {
          "data": {
            "text/html": [
              "<div>\n",
              "<style scoped>\n",
              "    .dataframe tbody tr th:only-of-type {\n",
              "        vertical-align: middle;\n",
              "    }\n",
              "\n",
              "    .dataframe tbody tr th {\n",
              "        vertical-align: top;\n",
              "    }\n",
              "\n",
              "    .dataframe thead th {\n",
              "        text-align: right;\n",
              "    }\n",
              "</style>\n",
              "<table border=\"1\" class=\"dataframe\">\n",
              "  <thead>\n",
              "    <tr style=\"text-align: right;\">\n",
              "      <th></th>\n",
              "      <th>제품고유ID</th>\n",
              "      <th>제품무게</th>\n",
              "      <th>저지방구분</th>\n",
              "      <th>제품가시성</th>\n",
              "      <th>제품카테고리</th>\n",
              "      <th>제품최대가격</th>\n",
              "      <th>상점ID</th>\n",
              "      <th>설립연도</th>\n",
              "      <th>매장규모</th>\n",
              "      <th>도시유형</th>\n",
              "      <th>매장의유형</th>\n",
              "      <th>매장에서의제품판매량</th>\n",
              "    </tr>\n",
              "  </thead>\n",
              "  <tbody>\n",
              "    <tr>\n",
              "      <th>0</th>\n",
              "      <td>156</td>\n",
              "      <td>9.30</td>\n",
              "      <td>0</td>\n",
              "      <td>0.016047</td>\n",
              "      <td>4</td>\n",
              "      <td>249.8092</td>\n",
              "      <td>9</td>\n",
              "      <td>1999</td>\n",
              "      <td>1</td>\n",
              "      <td>0</td>\n",
              "      <td>1</td>\n",
              "      <td>3735.1380</td>\n",
              "    </tr>\n",
              "    <tr>\n",
              "      <th>1</th>\n",
              "      <td>8</td>\n",
              "      <td>5.92</td>\n",
              "      <td>1</td>\n",
              "      <td>0.019278</td>\n",
              "      <td>14</td>\n",
              "      <td>48.2692</td>\n",
              "      <td>3</td>\n",
              "      <td>2009</td>\n",
              "      <td>1</td>\n",
              "      <td>2</td>\n",
              "      <td>2</td>\n",
              "      <td>443.4228</td>\n",
              "    </tr>\n",
              "    <tr>\n",
              "      <th>2</th>\n",
              "      <td>662</td>\n",
              "      <td>17.50</td>\n",
              "      <td>0</td>\n",
              "      <td>0.016760</td>\n",
              "      <td>10</td>\n",
              "      <td>141.6180</td>\n",
              "      <td>9</td>\n",
              "      <td>1999</td>\n",
              "      <td>1</td>\n",
              "      <td>0</td>\n",
              "      <td>1</td>\n",
              "      <td>2097.2700</td>\n",
              "    </tr>\n",
              "    <tr>\n",
              "      <th>3</th>\n",
              "      <td>1121</td>\n",
              "      <td>19.20</td>\n",
              "      <td>1</td>\n",
              "      <td>0.000000</td>\n",
              "      <td>6</td>\n",
              "      <td>182.0950</td>\n",
              "      <td>0</td>\n",
              "      <td>1998</td>\n",
              "      <td>3</td>\n",
              "      <td>2</td>\n",
              "      <td>0</td>\n",
              "      <td>732.3800</td>\n",
              "    </tr>\n",
              "    <tr>\n",
              "      <th>4</th>\n",
              "      <td>1297</td>\n",
              "      <td>8.93</td>\n",
              "      <td>0</td>\n",
              "      <td>0.000000</td>\n",
              "      <td>9</td>\n",
              "      <td>53.8614</td>\n",
              "      <td>1</td>\n",
              "      <td>1987</td>\n",
              "      <td>0</td>\n",
              "      <td>2</td>\n",
              "      <td>1</td>\n",
              "      <td>994.7052</td>\n",
              "    </tr>\n",
              "  </tbody>\n",
              "</table>\n",
              "</div>"
            ],
            "text/plain": [
              "   제품고유ID   제품무게  저지방구분     제품가시성  제품카테고리    제품최대가격  상점ID  설립연도  매장규모  도시유형  \\\n",
              "0     156   9.30      0  0.016047       4  249.8092     9  1999     1     0   \n",
              "1       8   5.92      1  0.019278      14   48.2692     3  2009     1     2   \n",
              "2     662  17.50      0  0.016760      10  141.6180     9  1999     1     0   \n",
              "3    1121  19.20      1  0.000000       6  182.0950     0  1998     3     2   \n",
              "4    1297   8.93      0  0.000000       9   53.8614     1  1987     0     2   \n",
              "\n",
              "   매장의유형  매장에서의제품판매량  \n",
              "0      1   3735.1380  \n",
              "1      2    443.4228  \n",
              "2      1   2097.2700  \n",
              "3      0    732.3800  \n",
              "4      1    994.7052  "
            ]
          },
          "execution_count": 33,
          "metadata": {},
          "output_type": "execute_result"
        }
      ],
      "source": [
        "big_mart_data.head()"
      ]
    },
    {
      "cell_type": "markdown",
      "metadata": {},
      "source": [
        "데이터 구분"
      ]
    },
    {
      "cell_type": "code",
      "execution_count": 44,
      "metadata": {
        "id": "uwe-H2o2IXzJ"
      },
      "outputs": [],
      "source": [
        "X = big_mart_data.drop(columns='매장에서의제품판매량', axis=1)\n",
        "y = big_mart_data['매장에서의제품판매량']"
      ]
    },
    {
      "cell_type": "code",
      "execution_count": 45,
      "metadata": {
        "colab": {
          "base_uri": "https://localhost:8080/"
        },
        "id": "TKDLyvImIuTo",
        "outputId": "ed8d8508-d091-41ba-a298-c7ed5a8ccd38"
      },
      "outputs": [
        {
          "name": "stdout",
          "output_type": "stream",
          "text": [
            "      제품고유ID    제품무게  저지방구분     제품가시성  제품카테고리    제품최대가격  상점ID  설립연도  매장규모  \\\n",
            "0        156   9.300      0  0.016047       4  249.8092     9  1999     1   \n",
            "1          8   5.920      1  0.019278      14   48.2692     3  2009     1   \n",
            "2        662  17.500      0  0.016760      10  141.6180     9  1999     1   \n",
            "3       1121  19.200      1  0.000000       6  182.0950     0  1998     3   \n",
            "4       1297   8.930      0  0.000000       9   53.8614     1  1987     0   \n",
            "...      ...     ...    ...       ...     ...       ...   ...   ...   ...   \n",
            "8518     370   6.865      0  0.056783      13  214.5218     1  1987     0   \n",
            "8519     897   8.380      1  0.046982       0  108.1570     7  2002     3   \n",
            "8520    1357  10.600      0  0.035186       8   85.1224     6  2004     2   \n",
            "8521     681   7.210      1  0.145221      13  103.1332     3  2009     1   \n",
            "8522      50  14.800      0  0.044878      14   75.4670     8  1997     2   \n",
            "\n",
            "      도시유형  매장의유형  \n",
            "0        0      1  \n",
            "1        2      2  \n",
            "2        0      1  \n",
            "3        2      0  \n",
            "4        2      1  \n",
            "...    ...    ...  \n",
            "8518     2      1  \n",
            "8519     1      1  \n",
            "8520     1      1  \n",
            "8521     2      2  \n",
            "8522     0      1  \n",
            "\n",
            "[8523 rows x 11 columns]\n"
          ]
        }
      ],
      "source": [
        "print(X)"
      ]
    },
    {
      "cell_type": "code",
      "execution_count": 51,
      "metadata": {
        "colab": {
          "base_uri": "https://localhost:8080/"
        },
        "id": "WgbKCgaNIvd9",
        "outputId": "f9074dfe-2e97-49f5-a73e-fea2960dc7a8"
      },
      "outputs": [
        {
          "name": "stdout",
          "output_type": "stream",
          "text": [
            "0       3735.1380\n",
            "1        443.4228\n",
            "2       2097.2700\n",
            "3        732.3800\n",
            "4        994.7052\n",
            "          ...    \n",
            "8518    2778.3834\n",
            "8519     549.2850\n",
            "8520    1193.1136\n",
            "8521    1845.5976\n",
            "8522     765.6700\n",
            "Name: 매장에서의제품판매량, Length: 8523, dtype: float64\n"
          ]
        }
      ],
      "source": [
        "print(y)"
      ]
    },
    {
      "cell_type": "markdown",
      "metadata": {
        "id": "quPO-6hlIz3Z"
      },
      "source": [
        "데이터/훈련 데이터셋 나누기"
      ]
    },
    {
      "cell_type": "code",
      "execution_count": 52,
      "metadata": {
        "id": "ahDPS_EYIxRX"
      },
      "outputs": [],
      "source": [
        "X_train, X_test, y_train, y_test = train_test_split(X, y, test_size=0.2, random_state=2021)"
      ]
    },
    {
      "cell_type": "code",
      "execution_count": 53,
      "metadata": {
        "colab": {
          "base_uri": "https://localhost:8080/"
        },
        "id": "Re4BSHovJBB-",
        "outputId": "a870362e-eb4d-4378-9678-f7f4feca6bfa"
      },
      "outputs": [
        {
          "name": "stdout",
          "output_type": "stream",
          "text": [
            "(8523, 11) (6818, 11) (1705, 11)\n"
          ]
        }
      ],
      "source": [
        "print(X.shape, X_train.shape, X_test.shape)"
      ]
    },
    {
      "cell_type": "markdown",
      "metadata": {
        "id": "xl3IeS5nJaW3"
      },
      "source": [
        "머신러닝 모델 훈련"
      ]
    },
    {
      "cell_type": "markdown",
      "metadata": {},
      "source": [
        "LenearRegression Model"
      ]
    },
    {
      "cell_type": "code",
      "execution_count": 62,
      "metadata": {},
      "outputs": [
        {
          "data": {
            "text/plain": [
              "LinearRegression()"
            ]
          },
          "execution_count": 62,
          "metadata": {},
          "output_type": "execute_result"
        }
      ],
      "source": [
        "from sklearn.linear_model import LinearRegression\n",
        "lr = LinearRegression()\n",
        "lr.fit(X_train, y_train)"
      ]
    },
    {
      "cell_type": "code",
      "execution_count": 65,
      "metadata": {},
      "outputs": [
        {
          "data": {
            "text/plain": [
              "0.5017604501812704"
            ]
          },
          "execution_count": 65,
          "metadata": {},
          "output_type": "execute_result"
        }
      ],
      "source": [
        "lr.score(X_test, y_test)"
      ]
    },
    {
      "cell_type": "code",
      "execution_count": 66,
      "metadata": {},
      "outputs": [
        {
          "data": {
            "text/plain": [
              "array([2970.87026582, 1296.80289748, 1541.24014436, ..., 1283.41007411,\n",
              "        839.94929396, 1531.51056733])"
            ]
          },
          "execution_count": 66,
          "metadata": {},
          "output_type": "execute_result"
        }
      ],
      "source": [
        "# 테스트셋 결과 예측\n",
        "pred_lr = lr.predict(X_test)\n",
        "pred_lr"
      ]
    },
    {
      "cell_type": "code",
      "execution_count": 68,
      "metadata": {},
      "outputs": [
        {
          "name": "stdout",
          "output_type": "stream",
          "text": [
            "제품고유ID: \t0.0000\n",
            "제품무게: \t0.0001\n",
            "저지방구분: \t0.0004\n",
            "제품가시성: \t0.0165\n",
            "제품카테고리: \t0.0003\n",
            "제품최대가격: \t0.3221\n",
            "상점ID: \t0.0263\n",
            "설립연도: \t0.0024\n",
            "매장규모: \t0.0297\n",
            "도시유형: \t0.0080\n",
            "매장의유형: \t0.1612\n"
          ]
        }
      ],
      "source": [
        "for feature in big_mart_data.columns[:-1]:\n",
        "    X = big_mart_data[feature].values.reshape(-1,1)\n",
        "    lr = LinearRegression()\n",
        "    lr.fit(X,y)\n",
        "    score = lr.score(X,y)\n",
        "    print(f'{feature}: \\t{score:.4f}')"
      ]
    },
    {
      "cell_type": "code",
      "execution_count": 69,
      "metadata": {},
      "outputs": [
        {
          "data": {
            "text/plain": [
              "1439098.3484498695"
            ]
          },
          "execution_count": 69,
          "metadata": {},
          "output_type": "execute_result"
        }
      ],
      "source": [
        "from sklearn.metrics import mean_squared_error\n",
        "mase_lr = mean_squared_error(y_test, pred_lr)\n",
        "mase_lr"
      ]
    },
    {
      "cell_type": "markdown",
      "metadata": {},
      "source": [
        "SVR"
      ]
    },
    {
      "cell_type": "code",
      "execution_count": 72,
      "metadata": {},
      "outputs": [
        {
          "data": {
            "text/plain": [
              "3061168.207996973"
            ]
          },
          "execution_count": 72,
          "metadata": {},
          "output_type": "execute_result"
        }
      ],
      "source": [
        "from sklearn.svm import SVR\n",
        "svr = SVR()\n",
        "svr.fit(X_train, y_train)\n",
        "pred_svr = svr.predict(X_test)\n",
        "mse_svr = mean_squared_error(y_test, pred_svr)\n",
        "mse_svr"
      ]
    },
    {
      "cell_type": "markdown",
      "metadata": {},
      "source": [
        "RandomFrestRegressor"
      ]
    },
    {
      "cell_type": "code",
      "execution_count": 73,
      "metadata": {},
      "outputs": [
        {
          "data": {
            "text/plain": [
              "1307966.8108257512"
            ]
          },
          "execution_count": 73,
          "metadata": {},
          "output_type": "execute_result"
        }
      ],
      "source": [
        "from sklearn.ensemble import RandomForestRegressor\n",
        "rfr = RandomForestRegressor(random_state=2021)\n",
        "rfr.fit(X_train, y_train)\n",
        "pred_rfr = rfr.predict(X_test)\n",
        "mse_rfr = mean_squared_error(y_test, pred_rfr)\n",
        "mse_rfr"
      ]
    },
    {
      "cell_type": "markdown",
      "metadata": {},
      "source": [
        "MSE 비교"
      ]
    },
    {
      "cell_type": "code",
      "execution_count": 75,
      "metadata": {},
      "outputs": [
        {
          "data": {
            "text/html": [
              "<div>\n",
              "<style scoped>\n",
              "    .dataframe tbody tr th:only-of-type {\n",
              "        vertical-align: middle;\n",
              "    }\n",
              "\n",
              "    .dataframe tbody tr th {\n",
              "        vertical-align: top;\n",
              "    }\n",
              "\n",
              "    .dataframe thead th {\n",
              "        text-align: right;\n",
              "    }\n",
              "</style>\n",
              "<table border=\"1\" class=\"dataframe\">\n",
              "  <thead>\n",
              "    <tr style=\"text-align: right;\">\n",
              "      <th></th>\n",
              "      <th>y_test</th>\n",
              "      <th>LR</th>\n",
              "      <th>SVR</th>\n",
              "      <th>rfr</th>\n",
              "    </tr>\n",
              "  </thead>\n",
              "  <tbody>\n",
              "    <tr>\n",
              "      <th>819</th>\n",
              "      <td>3942.8676</td>\n",
              "      <td>2970.870266</td>\n",
              "      <td>1801.683636</td>\n",
              "      <td>2504.959314</td>\n",
              "    </tr>\n",
              "    <tr>\n",
              "      <th>3828</th>\n",
              "      <td>1086.5856</td>\n",
              "      <td>1296.802897</td>\n",
              "      <td>1780.713186</td>\n",
              "      <td>1395.423588</td>\n",
              "    </tr>\n",
              "    <tr>\n",
              "      <th>4979</th>\n",
              "      <td>1569.9564</td>\n",
              "      <td>1541.240144</td>\n",
              "      <td>1792.458564</td>\n",
              "      <td>1355.515536</td>\n",
              "    </tr>\n",
              "    <tr>\n",
              "      <th>3876</th>\n",
              "      <td>5033.4480</td>\n",
              "      <td>2923.253707</td>\n",
              "      <td>1806.447444</td>\n",
              "      <td>3589.753912</td>\n",
              "    </tr>\n",
              "    <tr>\n",
              "      <th>927</th>\n",
              "      <td>1569.9564</td>\n",
              "      <td>2813.069506</td>\n",
              "      <td>1782.732967</td>\n",
              "      <td>3068.385906</td>\n",
              "    </tr>\n",
              "  </tbody>\n",
              "</table>\n",
              "</div>"
            ],
            "text/plain": [
              "         y_test           LR          SVR          rfr\n",
              "819   3942.8676  2970.870266  1801.683636  2504.959314\n",
              "3828  1086.5856  1296.802897  1780.713186  1395.423588\n",
              "4979  1569.9564  1541.240144  1792.458564  1355.515536\n",
              "3876  5033.4480  2923.253707  1806.447444  3589.753912\n",
              "927   1569.9564  2813.069506  1782.732967  3068.385906"
            ]
          },
          "execution_count": 75,
          "metadata": {},
          "output_type": "execute_result"
        }
      ],
      "source": [
        "big_mart_data = pd.DataFrame({'y_test' : y_test, 'LR': pred_lr, 'SVR':pred_svr, 'rfr' : pred_rfr})\n",
        "big_mart_data.head()"
      ]
    },
    {
      "cell_type": "markdown",
      "metadata": {
        "id": "m0xSe9ZcJe75"
      },
      "source": [
        "XGBoost"
      ]
    },
    {
      "cell_type": "code",
      "execution_count": 50,
      "metadata": {
        "id": "OM2K1_zxJVq7"
      },
      "outputs": [
        {
          "data": {
            "text/plain": [
              "XGBRegressor(base_score=0.5, booster='gbtree', colsample_bylevel=1,\n",
              "             colsample_bynode=1, colsample_bytree=1, enable_categorical=False,\n",
              "             gamma=0, gpu_id=-1, importance_type=None,\n",
              "             interaction_constraints='', learning_rate=0.300000012,\n",
              "             max_delta_step=0, max_depth=6, min_child_weight=1, missing=nan,\n",
              "             monotone_constraints='()', n_estimators=100, n_jobs=8,\n",
              "             num_parallel_tree=1, predictor='auto', random_state=0, reg_alpha=0,\n",
              "             reg_lambda=1, scale_pos_weight=1, subsample=1, tree_method='exact',\n",
              "             validate_parameters=1, verbosity=None)"
            ]
          },
          "execution_count": 50,
          "metadata": {},
          "output_type": "execute_result"
        }
      ],
      "source": [
        "xgb = XGBRegressor()\n",
        "xgb.fit(X_train,y_train)\n"
      ]
    },
    {
      "cell_type": "markdown",
      "metadata": {
        "id": "GKD3Ip4KJ4lS"
      },
      "source": [
        "평가하기"
      ]
    },
    {
      "cell_type": "code",
      "execution_count": 55,
      "metadata": {
        "id": "IZIMhuxJJ2m0"
      },
      "outputs": [],
      "source": [
        "# 트레이닝데이터 예측\n",
        "training_data_pred = xgb.predict(X_train)"
      ]
    },
    {
      "cell_type": "code",
      "execution_count": 56,
      "metadata": {
        "id": "ebkXEag7KHsI"
      },
      "outputs": [],
      "source": [
        "# R squared feature\n",
        "r2_train = metrics.r2_score(y_train, training_data_pred)"
      ]
    },
    {
      "cell_type": "code",
      "execution_count": 57,
      "metadata": {
        "colab": {
          "base_uri": "https://localhost:8080/"
        },
        "id": "VnIOWZEdKTet",
        "outputId": "235bc76e-5336-484c-c2ea-ef1b166f89ce"
      },
      "outputs": [
        {
          "name": "stdout",
          "output_type": "stream",
          "text": [
            "R Squared value =  0.8695852042698059\n"
          ]
        }
      ],
      "source": [
        "print('R Squared value = ', r2_train)"
      ]
    },
    {
      "cell_type": "code",
      "execution_count": 59,
      "metadata": {
        "id": "nLrj2_8SKsHM"
      },
      "outputs": [],
      "source": [
        "# 테스트 데이터 예측\n",
        "test_data_pred = xgb.predict(X_test)"
      ]
    },
    {
      "cell_type": "code",
      "execution_count": 60,
      "metadata": {
        "id": "E_R3MjSOK2-x"
      },
      "outputs": [],
      "source": [
        "# R squared Value\n",
        "r2_test = metrics.r2_score(y_test, test_data_pred)"
      ]
    },
    {
      "cell_type": "code",
      "execution_count": 61,
      "metadata": {
        "colab": {
          "base_uri": "https://localhost:8080/"
        },
        "id": "zQxuP6v1K-Hh",
        "outputId": "c7f2a4a1-afc6-4783-ce8c-cfa3d1cd57f8"
      },
      "outputs": [
        {
          "name": "stdout",
          "output_type": "stream",
          "text": [
            "R Squared value =  0.5147777148972924\n"
          ]
        }
      ],
      "source": [
        "print('R Squared value = ', r2_test)"
      ]
    },
    {
      "cell_type": "code",
      "execution_count": null,
      "metadata": {
        "id": "2Y8gya2TLBR7"
      },
      "outputs": [],
      "source": []
    }
  ],
  "metadata": {
    "colab": {
      "collapsed_sections": [],
      "name": "Project 12. Big Mart Sales Prediction.ipynb",
      "provenance": []
    },
    "kernelspec": {
      "display_name": "Python 3",
      "name": "python3"
    },
    "language_info": {
      "codemirror_mode": {
        "name": "ipython",
        "version": 3
      },
      "file_extension": ".py",
      "mimetype": "text/x-python",
      "name": "python",
      "nbconvert_exporter": "python",
      "pygments_lexer": "ipython3",
      "version": "3.8.8"
    }
  },
  "nbformat": 4,
  "nbformat_minor": 0
}
